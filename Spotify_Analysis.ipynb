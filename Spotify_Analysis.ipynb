{
  "nbformat": 4,
  "nbformat_minor": 0,
  "metadata": {
    "colab": {
      "provenance": []
    },
    "kernelspec": {
      "name": "python3",
      "display_name": "Python 3"
    },
    "language_info": {
      "name": "python"
    }
  },
  "cells": [
    {
      "cell_type": "markdown",
      "source": [
        "Possible data sets:\n",
        "https://www.kaggle.com/datasets/abdulszz/spotify-most-streamed-songs\n",
        "\n",
        "\n",
        "\n",
        "Analysis that can be done on dataset\n",
        "by Joshua Au-Yeung & Haichen Zhang​\n",
        "\n",
        "​\n",
        "*   Analyze trends in popular music over time.\n",
        "*   Study the correlation between musical attributes and song popularity. - Joshua\n",
        "*   Build machine learning models to predict song chart rankings based on various features. - Joshua\n",
        "*   Compare streaming patterns across multiple platforms.\n",
        "\n"
      ],
      "metadata": {
        "id": "pgHLnotfDIWO"
      }
    },
    {
      "cell_type": "markdown",
      "source": [
        "Features of the Dataset\n",
        "Basic Track Information:\n",
        "\n",
        "track_name: Name of the song.\n",
        "artist(s)_name: Name of the artist(s) performing the song.\n",
        "artist_count: Number of artists contributing to the song.\n",
        "released_year, released_month, released_day: Release date details.\n",
        "Streaming Metrics:\n",
        "\n",
        "in_spotify_playlists: Number of Spotify playlists the song is featured in.\n",
        "in_spotify_charts: Rank of the song on Spotify charts.\n",
        "streams: Total number of streams on Spotify.\n",
        "in_apple_playlists, in_apple_charts: Presence in Apple Music playlists and charts.\n",
        "in_deezer_playlists, in_deezer_charts: Presence in Deezer playlists and charts.\n",
        "in_shazam_charts: Rank on Shazam charts.\n",
        "Musical Attributes:\n",
        "\n",
        "bpm: Beats per minute, representing the tempo of the song.\n",
        "key: Key of the song.\n",
        "mode: Indicates whether the song is in a major or minor mode.\n",
        "danceability_%: Suitability of the song for dancing.\n",
        "valence_%: Positivity of the song’s musical content.\n",
        "energy_%: Perceived energy level of the song.\n",
        "acousticness_%: Acoustic sound presence in the song.\n",
        "instrumentalness_%: Proportion of instrumental content in the track.\n",
        "liveness_%: Presence of live performance elements.\n",
        "speechiness_%: Amount of spoken words in the song."
      ],
      "metadata": {
        "id": "DqVF4IiHvNLR"
      }
    },
    {
      "cell_type": "markdown",
      "source": [
        "Exploring the data:"
      ],
      "metadata": {
        "id": "tpym-c8waNHc"
      }
    },
    {
      "cell_type": "code",
      "execution_count": null,
      "metadata": {
        "colab": {
          "base_uri": "https://localhost:8080/"
        },
        "id": "uQGkoXhzDCuH",
        "outputId": "7d81b23a-654f-4560-d9ff-69dbde8a9b03"
      },
      "outputs": [
        {
          "output_type": "stream",
          "name": "stdout",
          "text": [
            "Downloading from https://www.kaggle.com/api/v1/datasets/download/abdulszz/spotify-most-streamed-songs?dataset_version_number=2...\n"
          ]
        },
        {
          "output_type": "stream",
          "name": "stderr",
          "text": [
            "100%|██████████| 60.0k/60.0k [00:00<00:00, 37.8MB/s]"
          ]
        },
        {
          "output_type": "stream",
          "name": "stdout",
          "text": [
            "Extracting files...\n",
            "Column names: ['track_name', 'artist(s)_name', 'artist_count', 'released_year', 'released_month', 'released_day', 'in_spotify_playlists', 'in_spotify_charts', 'streams', 'in_apple_playlists', 'in_apple_charts', 'in_deezer_playlists', 'in_deezer_charts', 'in_shazam_charts', 'bpm', 'key', 'mode', 'danceability_%', 'valence_%', 'energy_%', 'acousticness_%', 'instrumentalness_%', 'liveness_%', 'speechiness_%', 'cover_url']\n"
          ]
        },
        {
          "output_type": "stream",
          "name": "stderr",
          "text": [
            "\n"
          ]
        }
      ],
      "source": [
        "import kagglehub\n",
        "import os\n",
        "import pandas as pd\n",
        "\n",
        "# Download the latest version of the dataset\n",
        "path = kagglehub.dataset_download(\"abdulszz/spotify-most-streamed-songs\")\n",
        "\n",
        "# Specify the correct CSV file name\n",
        "csv_file = os.path.join(path, 'Spotify Most Streamed Songs.csv')\n",
        "\n",
        "# Read the CSV file into a DataFrame\n",
        "df = pd.read_csv(csv_file)\n",
        "\n",
        "\n",
        "print(\"Column names:\", df.columns.tolist())"
      ]
    },
    {
      "cell_type": "code",
      "source": [
        "df.head()"
      ],
      "metadata": {
        "colab": {
          "base_uri": "https://localhost:8080/",
          "height": 342
        },
        "id": "YLdAJV5LE1KE",
        "outputId": "5314d6a0-e6be-406c-bcdb-0eed2b33bcab"
      },
      "execution_count": null,
      "outputs": [
        {
          "output_type": "execute_result",
          "data": {
            "text/plain": [
              "                            track_name    artist(s)_name  artist_count  \\\n",
              "0  Seven (feat. Latto) (Explicit Ver.)  Latto, Jung Kook             2   \n",
              "1                                 LALA       Myke Towers             1   \n",
              "2                              vampire    Olivia Rodrigo             1   \n",
              "3                         Cruel Summer      Taylor Swift             1   \n",
              "4                       WHERE SHE GOES         Bad Bunny             1   \n",
              "\n",
              "   released_year  released_month  released_day  in_spotify_playlists  \\\n",
              "0           2023               7            14                   553   \n",
              "1           2023               3            23                  1474   \n",
              "2           2023               6            30                  1397   \n",
              "3           2019               8            23                  7858   \n",
              "4           2023               5            18                  3133   \n",
              "\n",
              "   in_spotify_charts    streams  in_apple_playlists  ...  key   mode  \\\n",
              "0                147  141381703                  43  ...    B  Major   \n",
              "1                 48  133716286                  48  ...   C#  Major   \n",
              "2                113  140003974                  94  ...    F  Major   \n",
              "3                100  800840817                 116  ...    A  Major   \n",
              "4                 50  303236322                  84  ...    A  Minor   \n",
              "\n",
              "   danceability_% valence_%  energy_% acousticness_% instrumentalness_%  \\\n",
              "0              80        89        83             31                  0   \n",
              "1              71        61        74              7                  0   \n",
              "2              51        32        53             17                  0   \n",
              "3              55        58        72             11                  0   \n",
              "4              65        23        80             14                 63   \n",
              "\n",
              "   liveness_%  speechiness_%  \\\n",
              "0           8              4   \n",
              "1          10              4   \n",
              "2          31              6   \n",
              "3          11             15   \n",
              "4          11              6   \n",
              "\n",
              "                                           cover_url  \n",
              "0                                          Not Found  \n",
              "1  https://i.scdn.co/image/ab67616d0000b2730656d5...  \n",
              "2  https://i.scdn.co/image/ab67616d0000b273e85259...  \n",
              "3  https://i.scdn.co/image/ab67616d0000b273e787cf...  \n",
              "4  https://i.scdn.co/image/ab67616d0000b273ab5c9c...  \n",
              "\n",
              "[5 rows x 25 columns]"
            ],
            "text/html": [
              "\n",
              "  <div id=\"df-3c3da092-c69d-4695-85b7-e7744412072c\" class=\"colab-df-container\">\n",
              "    <div>\n",
              "<style scoped>\n",
              "    .dataframe tbody tr th:only-of-type {\n",
              "        vertical-align: middle;\n",
              "    }\n",
              "\n",
              "    .dataframe tbody tr th {\n",
              "        vertical-align: top;\n",
              "    }\n",
              "\n",
              "    .dataframe thead th {\n",
              "        text-align: right;\n",
              "    }\n",
              "</style>\n",
              "<table border=\"1\" class=\"dataframe\">\n",
              "  <thead>\n",
              "    <tr style=\"text-align: right;\">\n",
              "      <th></th>\n",
              "      <th>track_name</th>\n",
              "      <th>artist(s)_name</th>\n",
              "      <th>artist_count</th>\n",
              "      <th>released_year</th>\n",
              "      <th>released_month</th>\n",
              "      <th>released_day</th>\n",
              "      <th>in_spotify_playlists</th>\n",
              "      <th>in_spotify_charts</th>\n",
              "      <th>streams</th>\n",
              "      <th>in_apple_playlists</th>\n",
              "      <th>...</th>\n",
              "      <th>key</th>\n",
              "      <th>mode</th>\n",
              "      <th>danceability_%</th>\n",
              "      <th>valence_%</th>\n",
              "      <th>energy_%</th>\n",
              "      <th>acousticness_%</th>\n",
              "      <th>instrumentalness_%</th>\n",
              "      <th>liveness_%</th>\n",
              "      <th>speechiness_%</th>\n",
              "      <th>cover_url</th>\n",
              "    </tr>\n",
              "  </thead>\n",
              "  <tbody>\n",
              "    <tr>\n",
              "      <th>0</th>\n",
              "      <td>Seven (feat. Latto) (Explicit Ver.)</td>\n",
              "      <td>Latto, Jung Kook</td>\n",
              "      <td>2</td>\n",
              "      <td>2023</td>\n",
              "      <td>7</td>\n",
              "      <td>14</td>\n",
              "      <td>553</td>\n",
              "      <td>147</td>\n",
              "      <td>141381703</td>\n",
              "      <td>43</td>\n",
              "      <td>...</td>\n",
              "      <td>B</td>\n",
              "      <td>Major</td>\n",
              "      <td>80</td>\n",
              "      <td>89</td>\n",
              "      <td>83</td>\n",
              "      <td>31</td>\n",
              "      <td>0</td>\n",
              "      <td>8</td>\n",
              "      <td>4</td>\n",
              "      <td>Not Found</td>\n",
              "    </tr>\n",
              "    <tr>\n",
              "      <th>1</th>\n",
              "      <td>LALA</td>\n",
              "      <td>Myke Towers</td>\n",
              "      <td>1</td>\n",
              "      <td>2023</td>\n",
              "      <td>3</td>\n",
              "      <td>23</td>\n",
              "      <td>1474</td>\n",
              "      <td>48</td>\n",
              "      <td>133716286</td>\n",
              "      <td>48</td>\n",
              "      <td>...</td>\n",
              "      <td>C#</td>\n",
              "      <td>Major</td>\n",
              "      <td>71</td>\n",
              "      <td>61</td>\n",
              "      <td>74</td>\n",
              "      <td>7</td>\n",
              "      <td>0</td>\n",
              "      <td>10</td>\n",
              "      <td>4</td>\n",
              "      <td>https://i.scdn.co/image/ab67616d0000b2730656d5...</td>\n",
              "    </tr>\n",
              "    <tr>\n",
              "      <th>2</th>\n",
              "      <td>vampire</td>\n",
              "      <td>Olivia Rodrigo</td>\n",
              "      <td>1</td>\n",
              "      <td>2023</td>\n",
              "      <td>6</td>\n",
              "      <td>30</td>\n",
              "      <td>1397</td>\n",
              "      <td>113</td>\n",
              "      <td>140003974</td>\n",
              "      <td>94</td>\n",
              "      <td>...</td>\n",
              "      <td>F</td>\n",
              "      <td>Major</td>\n",
              "      <td>51</td>\n",
              "      <td>32</td>\n",
              "      <td>53</td>\n",
              "      <td>17</td>\n",
              "      <td>0</td>\n",
              "      <td>31</td>\n",
              "      <td>6</td>\n",
              "      <td>https://i.scdn.co/image/ab67616d0000b273e85259...</td>\n",
              "    </tr>\n",
              "    <tr>\n",
              "      <th>3</th>\n",
              "      <td>Cruel Summer</td>\n",
              "      <td>Taylor Swift</td>\n",
              "      <td>1</td>\n",
              "      <td>2019</td>\n",
              "      <td>8</td>\n",
              "      <td>23</td>\n",
              "      <td>7858</td>\n",
              "      <td>100</td>\n",
              "      <td>800840817</td>\n",
              "      <td>116</td>\n",
              "      <td>...</td>\n",
              "      <td>A</td>\n",
              "      <td>Major</td>\n",
              "      <td>55</td>\n",
              "      <td>58</td>\n",
              "      <td>72</td>\n",
              "      <td>11</td>\n",
              "      <td>0</td>\n",
              "      <td>11</td>\n",
              "      <td>15</td>\n",
              "      <td>https://i.scdn.co/image/ab67616d0000b273e787cf...</td>\n",
              "    </tr>\n",
              "    <tr>\n",
              "      <th>4</th>\n",
              "      <td>WHERE SHE GOES</td>\n",
              "      <td>Bad Bunny</td>\n",
              "      <td>1</td>\n",
              "      <td>2023</td>\n",
              "      <td>5</td>\n",
              "      <td>18</td>\n",
              "      <td>3133</td>\n",
              "      <td>50</td>\n",
              "      <td>303236322</td>\n",
              "      <td>84</td>\n",
              "      <td>...</td>\n",
              "      <td>A</td>\n",
              "      <td>Minor</td>\n",
              "      <td>65</td>\n",
              "      <td>23</td>\n",
              "      <td>80</td>\n",
              "      <td>14</td>\n",
              "      <td>63</td>\n",
              "      <td>11</td>\n",
              "      <td>6</td>\n",
              "      <td>https://i.scdn.co/image/ab67616d0000b273ab5c9c...</td>\n",
              "    </tr>\n",
              "  </tbody>\n",
              "</table>\n",
              "<p>5 rows × 25 columns</p>\n",
              "</div>\n",
              "    <div class=\"colab-df-buttons\">\n",
              "\n",
              "  <div class=\"colab-df-container\">\n",
              "    <button class=\"colab-df-convert\" onclick=\"convertToInteractive('df-3c3da092-c69d-4695-85b7-e7744412072c')\"\n",
              "            title=\"Convert this dataframe to an interactive table.\"\n",
              "            style=\"display:none;\">\n",
              "\n",
              "  <svg xmlns=\"http://www.w3.org/2000/svg\" height=\"24px\" viewBox=\"0 -960 960 960\">\n",
              "    <path d=\"M120-120v-720h720v720H120Zm60-500h600v-160H180v160Zm220 220h160v-160H400v160Zm0 220h160v-160H400v160ZM180-400h160v-160H180v160Zm440 0h160v-160H620v160ZM180-180h160v-160H180v160Zm440 0h160v-160H620v160Z\"/>\n",
              "  </svg>\n",
              "    </button>\n",
              "\n",
              "  <style>\n",
              "    .colab-df-container {\n",
              "      display:flex;\n",
              "      gap: 12px;\n",
              "    }\n",
              "\n",
              "    .colab-df-convert {\n",
              "      background-color: #E8F0FE;\n",
              "      border: none;\n",
              "      border-radius: 50%;\n",
              "      cursor: pointer;\n",
              "      display: none;\n",
              "      fill: #1967D2;\n",
              "      height: 32px;\n",
              "      padding: 0 0 0 0;\n",
              "      width: 32px;\n",
              "    }\n",
              "\n",
              "    .colab-df-convert:hover {\n",
              "      background-color: #E2EBFA;\n",
              "      box-shadow: 0px 1px 2px rgba(60, 64, 67, 0.3), 0px 1px 3px 1px rgba(60, 64, 67, 0.15);\n",
              "      fill: #174EA6;\n",
              "    }\n",
              "\n",
              "    .colab-df-buttons div {\n",
              "      margin-bottom: 4px;\n",
              "    }\n",
              "\n",
              "    [theme=dark] .colab-df-convert {\n",
              "      background-color: #3B4455;\n",
              "      fill: #D2E3FC;\n",
              "    }\n",
              "\n",
              "    [theme=dark] .colab-df-convert:hover {\n",
              "      background-color: #434B5C;\n",
              "      box-shadow: 0px 1px 3px 1px rgba(0, 0, 0, 0.15);\n",
              "      filter: drop-shadow(0px 1px 2px rgba(0, 0, 0, 0.3));\n",
              "      fill: #FFFFFF;\n",
              "    }\n",
              "  </style>\n",
              "\n",
              "    <script>\n",
              "      const buttonEl =\n",
              "        document.querySelector('#df-3c3da092-c69d-4695-85b7-e7744412072c button.colab-df-convert');\n",
              "      buttonEl.style.display =\n",
              "        google.colab.kernel.accessAllowed ? 'block' : 'none';\n",
              "\n",
              "      async function convertToInteractive(key) {\n",
              "        const element = document.querySelector('#df-3c3da092-c69d-4695-85b7-e7744412072c');\n",
              "        const dataTable =\n",
              "          await google.colab.kernel.invokeFunction('convertToInteractive',\n",
              "                                                    [key], {});\n",
              "        if (!dataTable) return;\n",
              "\n",
              "        const docLinkHtml = 'Like what you see? Visit the ' +\n",
              "          '<a target=\"_blank\" href=https://colab.research.google.com/notebooks/data_table.ipynb>data table notebook</a>'\n",
              "          + ' to learn more about interactive tables.';\n",
              "        element.innerHTML = '';\n",
              "        dataTable['output_type'] = 'display_data';\n",
              "        await google.colab.output.renderOutput(dataTable, element);\n",
              "        const docLink = document.createElement('div');\n",
              "        docLink.innerHTML = docLinkHtml;\n",
              "        element.appendChild(docLink);\n",
              "      }\n",
              "    </script>\n",
              "  </div>\n",
              "\n",
              "\n",
              "<div id=\"df-4b74a9f0-5b91-4159-9de7-f865bc57dfa8\">\n",
              "  <button class=\"colab-df-quickchart\" onclick=\"quickchart('df-4b74a9f0-5b91-4159-9de7-f865bc57dfa8')\"\n",
              "            title=\"Suggest charts\"\n",
              "            style=\"display:none;\">\n",
              "\n",
              "<svg xmlns=\"http://www.w3.org/2000/svg\" height=\"24px\"viewBox=\"0 0 24 24\"\n",
              "     width=\"24px\">\n",
              "    <g>\n",
              "        <path d=\"M19 3H5c-1.1 0-2 .9-2 2v14c0 1.1.9 2 2 2h14c1.1 0 2-.9 2-2V5c0-1.1-.9-2-2-2zM9 17H7v-7h2v7zm4 0h-2V7h2v10zm4 0h-2v-4h2v4z\"/>\n",
              "    </g>\n",
              "</svg>\n",
              "  </button>\n",
              "\n",
              "<style>\n",
              "  .colab-df-quickchart {\n",
              "      --bg-color: #E8F0FE;\n",
              "      --fill-color: #1967D2;\n",
              "      --hover-bg-color: #E2EBFA;\n",
              "      --hover-fill-color: #174EA6;\n",
              "      --disabled-fill-color: #AAA;\n",
              "      --disabled-bg-color: #DDD;\n",
              "  }\n",
              "\n",
              "  [theme=dark] .colab-df-quickchart {\n",
              "      --bg-color: #3B4455;\n",
              "      --fill-color: #D2E3FC;\n",
              "      --hover-bg-color: #434B5C;\n",
              "      --hover-fill-color: #FFFFFF;\n",
              "      --disabled-bg-color: #3B4455;\n",
              "      --disabled-fill-color: #666;\n",
              "  }\n",
              "\n",
              "  .colab-df-quickchart {\n",
              "    background-color: var(--bg-color);\n",
              "    border: none;\n",
              "    border-radius: 50%;\n",
              "    cursor: pointer;\n",
              "    display: none;\n",
              "    fill: var(--fill-color);\n",
              "    height: 32px;\n",
              "    padding: 0;\n",
              "    width: 32px;\n",
              "  }\n",
              "\n",
              "  .colab-df-quickchart:hover {\n",
              "    background-color: var(--hover-bg-color);\n",
              "    box-shadow: 0 1px 2px rgba(60, 64, 67, 0.3), 0 1px 3px 1px rgba(60, 64, 67, 0.15);\n",
              "    fill: var(--button-hover-fill-color);\n",
              "  }\n",
              "\n",
              "  .colab-df-quickchart-complete:disabled,\n",
              "  .colab-df-quickchart-complete:disabled:hover {\n",
              "    background-color: var(--disabled-bg-color);\n",
              "    fill: var(--disabled-fill-color);\n",
              "    box-shadow: none;\n",
              "  }\n",
              "\n",
              "  .colab-df-spinner {\n",
              "    border: 2px solid var(--fill-color);\n",
              "    border-color: transparent;\n",
              "    border-bottom-color: var(--fill-color);\n",
              "    animation:\n",
              "      spin 1s steps(1) infinite;\n",
              "  }\n",
              "\n",
              "  @keyframes spin {\n",
              "    0% {\n",
              "      border-color: transparent;\n",
              "      border-bottom-color: var(--fill-color);\n",
              "      border-left-color: var(--fill-color);\n",
              "    }\n",
              "    20% {\n",
              "      border-color: transparent;\n",
              "      border-left-color: var(--fill-color);\n",
              "      border-top-color: var(--fill-color);\n",
              "    }\n",
              "    30% {\n",
              "      border-color: transparent;\n",
              "      border-left-color: var(--fill-color);\n",
              "      border-top-color: var(--fill-color);\n",
              "      border-right-color: var(--fill-color);\n",
              "    }\n",
              "    40% {\n",
              "      border-color: transparent;\n",
              "      border-right-color: var(--fill-color);\n",
              "      border-top-color: var(--fill-color);\n",
              "    }\n",
              "    60% {\n",
              "      border-color: transparent;\n",
              "      border-right-color: var(--fill-color);\n",
              "    }\n",
              "    80% {\n",
              "      border-color: transparent;\n",
              "      border-right-color: var(--fill-color);\n",
              "      border-bottom-color: var(--fill-color);\n",
              "    }\n",
              "    90% {\n",
              "      border-color: transparent;\n",
              "      border-bottom-color: var(--fill-color);\n",
              "    }\n",
              "  }\n",
              "</style>\n",
              "\n",
              "  <script>\n",
              "    async function quickchart(key) {\n",
              "      const quickchartButtonEl =\n",
              "        document.querySelector('#' + key + ' button');\n",
              "      quickchartButtonEl.disabled = true;  // To prevent multiple clicks.\n",
              "      quickchartButtonEl.classList.add('colab-df-spinner');\n",
              "      try {\n",
              "        const charts = await google.colab.kernel.invokeFunction(\n",
              "            'suggestCharts', [key], {});\n",
              "      } catch (error) {\n",
              "        console.error('Error during call to suggestCharts:', error);\n",
              "      }\n",
              "      quickchartButtonEl.classList.remove('colab-df-spinner');\n",
              "      quickchartButtonEl.classList.add('colab-df-quickchart-complete');\n",
              "    }\n",
              "    (() => {\n",
              "      let quickchartButtonEl =\n",
              "        document.querySelector('#df-4b74a9f0-5b91-4159-9de7-f865bc57dfa8 button');\n",
              "      quickchartButtonEl.style.display =\n",
              "        google.colab.kernel.accessAllowed ? 'block' : 'none';\n",
              "    })();\n",
              "  </script>\n",
              "</div>\n",
              "\n",
              "    </div>\n",
              "  </div>\n"
            ],
            "application/vnd.google.colaboratory.intrinsic+json": {
              "type": "dataframe",
              "variable_name": "df"
            }
          },
          "metadata": {},
          "execution_count": 2
        }
      ]
    },
    {
      "cell_type": "code",
      "source": [
        "df.hist(bins=50, figsize=(20,15));"
      ],
      "metadata": {
        "colab": {
          "base_uri": "https://localhost:8080/",
          "height": 1000
        },
        "id": "4mOiw1QmFcdE",
        "outputId": "1563d6d7-3b0a-45dd-b51a-07a7c59ee8be"
      },
      "execution_count": null,
      "outputs": [
        {
          "output_type": "display_data",
          "data": {
            "text/plain": [
              "<Figure size 2000x1500 with 20 Axes>"
            ],
            "image/png": "[encoded data removed]"
          },
          "metadata": {}
        }
      ]
    },
    {
      "cell_type": "code",
      "source": [
        "df.info()"
      ],
      "metadata": {
        "colab": {
          "base_uri": "https://localhost:8080/"
        },
        "id": "Ilz1tXRKpuMc",
        "outputId": "495134ff-934d-453a-f200-fa9e66a38677"
      },
      "execution_count": null,
      "outputs": [
        {
          "output_type": "stream",
          "name": "stdout",
          "text": [
            "<class 'pandas.core.frame.DataFrame'>\n",
            "RangeIndex: 953 entries, 0 to 952\n",
            "Data columns (total 25 columns):\n",
            " #   Column                Non-Null Count  Dtype \n",
            "---  ------                --------------  ----- \n",
            " 0   track_name            953 non-null    object\n",
            " 1   artist(s)_name        953 non-null    object\n",
            " 2   artist_count          953 non-null    int64 \n",
            " 3   released_year         953 non-null    int64 \n",
            " 4   released_month        953 non-null    int64 \n",
            " 5   released_day          953 non-null    int64 \n",
            " 6   in_spotify_playlists  953 non-null    int64 \n",
            " 7   in_spotify_charts     953 non-null    int64 \n",
            " 8   streams               953 non-null    object\n",
            " 9   in_apple_playlists    953 non-null    int64 \n",
            " 10  in_apple_charts       953 non-null    int64 \n",
            " 11  in_deezer_playlists   953 non-null    object\n",
            " 12  in_deezer_charts      953 non-null    int64 \n",
            " 13  in_shazam_charts      903 non-null    object\n",
            " 14  bpm                   953 non-null    int64 \n",
            " 15  key                   858 non-null    object\n",
            " 16  mode                  953 non-null    object\n",
            " 17  danceability_%        953 non-null    int64 \n",
            " 18  valence_%             953 non-null    int64 \n",
            " 19  energy_%              953 non-null    int64 \n",
            " 20  acousticness_%        953 non-null    int64 \n",
            " 21  instrumentalness_%    953 non-null    int64 \n",
            " 22  liveness_%            953 non-null    int64 \n",
            " 23  speechiness_%         953 non-null    int64 \n",
            " 24  cover_url             953 non-null    object\n",
            "dtypes: int64(17), object(8)\n",
            "memory usage: 186.3+ KB\n"
          ]
        }
      ]
    },
    {
      "cell_type": "code",
      "source": [
        "df['streams'].describe()"
      ],
      "metadata": {
        "colab": {
          "base_uri": "https://localhost:8080/",
          "height": 320
        },
        "id": "DTvVSKftw1QE",
        "outputId": "b8bd098c-4c01-4084-a5cb-f5c6e146d46b"
      },
      "execution_count": null,
      "outputs": [
        {
          "output_type": "execute_result",
          "data": {
            "text/plain": [
              "       artist_count  released_year  released_month  released_day  \\\n",
              "count    953.000000     953.000000      953.000000    953.000000   \n",
              "mean       1.556139    2018.238195        6.033578     13.930745   \n",
              "std        0.893044      11.116218        3.566435      9.201949   \n",
              "min        1.000000    1930.000000        1.000000      1.000000   \n",
              "25%        1.000000    2020.000000        3.000000      6.000000   \n",
              "50%        1.000000    2022.000000        6.000000     13.000000   \n",
              "75%        2.000000    2022.000000        9.000000     22.000000   \n",
              "max        8.000000    2023.000000       12.000000     31.000000   \n",
              "\n",
              "       in_spotify_playlists  in_spotify_charts  in_apple_playlists  \\\n",
              "count            953.000000         953.000000          953.000000   \n",
              "mean            5200.124869          12.009444           67.812172   \n",
              "std             7897.608990          19.575992           86.441493   \n",
              "min               31.000000           0.000000            0.000000   \n",
              "25%              875.000000           0.000000           13.000000   \n",
              "50%             2224.000000           3.000000           34.000000   \n",
              "75%             5542.000000          16.000000           88.000000   \n",
              "max            52898.000000         147.000000          672.000000   \n",
              "\n",
              "       in_apple_charts  in_deezer_charts         bpm  danceability_%  \\\n",
              "count       953.000000        953.000000  953.000000       953.00000   \n",
              "mean         51.908709          2.666317  122.540399        66.96957   \n",
              "std          50.630241          6.035599   28.057802        14.63061   \n",
              "min           0.000000          0.000000   65.000000        23.00000   \n",
              "25%           7.000000          0.000000  100.000000        57.00000   \n",
              "50%          38.000000          0.000000  121.000000        69.00000   \n",
              "75%          87.000000          2.000000  140.000000        78.00000   \n",
              "max         275.000000         58.000000  206.000000        96.00000   \n",
              "\n",
              "        valence_%    energy_%  acousticness_%  instrumentalness_%  liveness_%  \\\n",
              "count  953.000000  953.000000      953.000000          953.000000  953.000000   \n",
              "mean    51.431270   64.279119       27.057712            1.581322   18.213012   \n",
              "std     23.480632   16.550526       25.996077            8.409800   13.711223   \n",
              "min      4.000000    9.000000        0.000000            0.000000    3.000000   \n",
              "25%     32.000000   53.000000        6.000000            0.000000   10.000000   \n",
              "50%     51.000000   66.000000       18.000000            0.000000   12.000000   \n",
              "75%     70.000000   77.000000       43.000000            0.000000   24.000000   \n",
              "max     97.000000   97.000000       97.000000           91.000000   97.000000   \n",
              "\n",
              "       speechiness_%  \n",
              "count     953.000000  \n",
              "mean       10.131165  \n",
              "std         9.912888  \n",
              "min         2.000000  \n",
              "25%         4.000000  \n",
              "50%         6.000000  \n",
              "75%        11.000000  \n",
              "max        64.000000  "
            ],
            "text/html": [
              "\n",
              "  <div id=\"df-3d40e2f2-5d7e-47d2-a191-bc91fcc30ede\" class=\"colab-df-container\">\n",
              "    <div>\n",
              "<style scoped>\n",
              "    .dataframe tbody tr th:only-of-type {\n",
              "        vertical-align: middle;\n",
              "    }\n",
              "\n",
              "    .dataframe tbody tr th {\n",
              "        vertical-align: top;\n",
              "    }\n",
              "\n",
              "    .dataframe thead th {\n",
              "        text-align: right;\n",
              "    }\n",
              "</style>\n",
              "<table border=\"1\" class=\"dataframe\">\n",
              "  <thead>\n",
              "    <tr style=\"text-align: right;\">\n",
              "      <th></th>\n",
              "      <th>artist_count</th>\n",
              "      <th>released_year</th>\n",
              "      <th>released_month</th>\n",
              "      <th>released_day</th>\n",
              "      <th>in_spotify_playlists</th>\n",
              "      <th>in_spotify_charts</th>\n",
              "      <th>in_apple_playlists</th>\n",
              "      <th>in_apple_charts</th>\n",
              "      <th>in_deezer_charts</th>\n",
              "      <th>bpm</th>\n",
              "      <th>danceability_%</th>\n",
              "      <th>valence_%</th>\n",
              "      <th>energy_%</th>\n",
              "      <th>acousticness_%</th>\n",
              "      <th>instrumentalness_%</th>\n",
              "      <th>liveness_%</th>\n",
              "      <th>speechiness_%</th>\n",
              "    </tr>\n",
              "  </thead>\n",
              "  <tbody>\n",
              "    <tr>\n",
              "      <th>count</th>\n",
              "      <td>953.000000</td>\n",
              "      <td>953.000000</td>\n",
              "      <td>953.000000</td>\n",
              "      <td>953.000000</td>\n",
              "      <td>953.000000</td>\n",
              "      <td>953.000000</td>\n",
              "      <td>953.000000</td>\n",
              "      <td>953.000000</td>\n",
              "      <td>953.000000</td>\n",
              "      <td>953.000000</td>\n",
              "      <td>953.00000</td>\n",
              "      <td>953.000000</td>\n",
              "      <td>953.000000</td>\n",
              "      <td>953.000000</td>\n",
              "      <td>953.000000</td>\n",
              "      <td>953.000000</td>\n",
              "      <td>953.000000</td>\n",
              "    </tr>\n",
              "    <tr>\n",
              "      <th>mean</th>\n",
              "      <td>1.556139</td>\n",
              "      <td>2018.238195</td>\n",
              "      <td>6.033578</td>\n",
              "      <td>13.930745</td>\n",
              "      <td>5200.124869</td>\n",
              "      <td>12.009444</td>\n",
              "      <td>67.812172</td>\n",
              "      <td>51.908709</td>\n",
              "      <td>2.666317</td>\n",
              "      <td>122.540399</td>\n",
              "      <td>66.96957</td>\n",
              "      <td>51.431270</td>\n",
              "      <td>64.279119</td>\n",
              "      <td>27.057712</td>\n",
              "      <td>1.581322</td>\n",
              "      <td>18.213012</td>\n",
              "      <td>10.131165</td>\n",
              "    </tr>\n",
              "    <tr>\n",
              "      <th>std</th>\n",
              "      <td>0.893044</td>\n",
              "      <td>11.116218</td>\n",
              "      <td>3.566435</td>\n",
              "      <td>9.201949</td>\n",
              "      <td>7897.608990</td>\n",
              "      <td>19.575992</td>\n",
              "      <td>86.441493</td>\n",
              "      <td>50.630241</td>\n",
              "      <td>6.035599</td>\n",
              "      <td>28.057802</td>\n",
              "      <td>14.63061</td>\n",
              "      <td>23.480632</td>\n",
              "      <td>16.550526</td>\n",
              "      <td>25.996077</td>\n",
              "      <td>8.409800</td>\n",
              "      <td>13.711223</td>\n",
              "      <td>9.912888</td>\n",
              "    </tr>\n",
              "    <tr>\n",
              "      <th>min</th>\n",
              "      <td>1.000000</td>\n",
              "      <td>1930.000000</td>\n",
              "      <td>1.000000</td>\n",
              "      <td>1.000000</td>\n",
              "      <td>31.000000</td>\n",
              "      <td>0.000000</td>\n",
              "      <td>0.000000</td>\n",
              "      <td>0.000000</td>\n",
              "      <td>0.000000</td>\n",
              "      <td>65.000000</td>\n",
              "      <td>23.00000</td>\n",
              "      <td>4.000000</td>\n",
              "      <td>9.000000</td>\n",
              "      <td>0.000000</td>\n",
              "      <td>0.000000</td>\n",
              "      <td>3.000000</td>\n",
              "      <td>2.000000</td>\n",
              "    </tr>\n",
              "    <tr>\n",
              "      <th>25%</th>\n",
              "      <td>1.000000</td>\n",
              "      <td>2020.000000</td>\n",
              "      <td>3.000000</td>\n",
              "      <td>6.000000</td>\n",
              "      <td>875.000000</td>\n",
              "      <td>0.000000</td>\n",
              "      <td>13.000000</td>\n",
              "      <td>7.000000</td>\n",
              "      <td>0.000000</td>\n",
              "      <td>100.000000</td>\n",
              "      <td>57.00000</td>\n",
              "      <td>32.000000</td>\n",
              "      <td>53.000000</td>\n",
              "      <td>6.000000</td>\n",
              "      <td>0.000000</td>\n",
              "      <td>10.000000</td>\n",
              "      <td>4.000000</td>\n",
              "    </tr>\n",
              "    <tr>\n",
              "      <th>50%</th>\n",
              "      <td>1.000000</td>\n",
              "      <td>2022.000000</td>\n",
              "      <td>6.000000</td>\n",
              "      <td>13.000000</td>\n",
              "      <td>2224.000000</td>\n",
              "      <td>3.000000</td>\n",
              "      <td>34.000000</td>\n",
              "      <td>38.000000</td>\n",
              "      <td>0.000000</td>\n",
              "      <td>121.000000</td>\n",
              "      <td>69.00000</td>\n",
              "      <td>51.000000</td>\n",
              "      <td>66.000000</td>\n",
              "      <td>18.000000</td>\n",
              "      <td>0.000000</td>\n",
              "      <td>12.000000</td>\n",
              "      <td>6.000000</td>\n",
              "    </tr>\n",
              "    <tr>\n",
              "      <th>75%</th>\n",
              "      <td>2.000000</td>\n",
              "      <td>2022.000000</td>\n",
              "      <td>9.000000</td>\n",
              "      <td>22.000000</td>\n",
              "      <td>5542.000000</td>\n",
              "      <td>16.000000</td>\n",
              "      <td>88.000000</td>\n",
              "      <td>87.000000</td>\n",
              "      <td>2.000000</td>\n",
              "      <td>140.000000</td>\n",
              "      <td>78.00000</td>\n",
              "      <td>70.000000</td>\n",
              "      <td>77.000000</td>\n",
              "      <td>43.000000</td>\n",
              "      <td>0.000000</td>\n",
              "      <td>24.000000</td>\n",
              "      <td>11.000000</td>\n",
              "    </tr>\n",
              "    <tr>\n",
              "      <th>max</th>\n",
              "      <td>8.000000</td>\n",
              "      <td>2023.000000</td>\n",
              "      <td>12.000000</td>\n",
              "      <td>31.000000</td>\n",
              "      <td>52898.000000</td>\n",
              "      <td>147.000000</td>\n",
              "      <td>672.000000</td>\n",
              "      <td>275.000000</td>\n",
              "      <td>58.000000</td>\n",
              "      <td>206.000000</td>\n",
              "      <td>96.00000</td>\n",
              "      <td>97.000000</td>\n",
              "      <td>97.000000</td>\n",
              "      <td>97.000000</td>\n",
              "      <td>91.000000</td>\n",
              "      <td>97.000000</td>\n",
              "      <td>64.000000</td>\n",
              "    </tr>\n",
              "  </tbody>\n",
              "</table>\n",
              "</div>\n",
              "    <div class=\"colab-df-buttons\">\n",
              "\n",
              "  <div class=\"colab-df-container\">\n",
              "    <button class=\"colab-df-convert\" onclick=\"convertToInteractive('df-3d40e2f2-5d7e-47d2-a191-bc91fcc30ede')\"\n",
              "            title=\"Convert this dataframe to an interactive table.\"\n",
              "            style=\"display:none;\">\n",
              "\n",
              "  <svg xmlns=\"http://www.w3.org/2000/svg\" height=\"24px\" viewBox=\"0 -960 960 960\">\n",
              "    <path d=\"M120-120v-720h720v720H120Zm60-500h600v-160H180v160Zm220 220h160v-160H400v160Zm0 220h160v-160H400v160ZM180-400h160v-160H180v160Zm440 0h160v-160H620v160ZM180-180h160v-160H180v160Zm440 0h160v-160H620v160Z\"/>\n",
              "  </svg>\n",
              "    </button>\n",
              "\n",
              "  <style>\n",
              "    .colab-df-container {\n",
              "      display:flex;\n",
              "      gap: 12px;\n",
              "    }\n",
              "\n",
              "    .colab-df-convert {\n",
              "      background-color: #E8F0FE;\n",
              "      border: none;\n",
              "      border-radius: 50%;\n",
              "      cursor: pointer;\n",
              "      display: none;\n",
              "      fill: #1967D2;\n",
              "      height: 32px;\n",
              "      padding: 0 0 0 0;\n",
              "      width: 32px;\n",
              "    }\n",
              "\n",
              "    .colab-df-convert:hover {\n",
              "      background-color: #E2EBFA;\n",
              "      box-shadow: 0px 1px 2px rgba(60, 64, 67, 0.3), 0px 1px 3px 1px rgba(60, 64, 67, 0.15);\n",
              "      fill: #174EA6;\n",
              "    }\n",
              "\n",
              "    .colab-df-buttons div {\n",
              "      margin-bottom: 4px;\n",
              "    }\n",
              "\n",
              "    [theme=dark] .colab-df-convert {\n",
              "      background-color: #3B4455;\n",
              "      fill: #D2E3FC;\n",
              "    }\n",
              "\n",
              "    [theme=dark] .colab-df-convert:hover {\n",
              "      background-color: #434B5C;\n",
              "      box-shadow: 0px 1px 3px 1px rgba(0, 0, 0, 0.15);\n",
              "      filter: drop-shadow(0px 1px 2px rgba(0, 0, 0, 0.3));\n",
              "      fill: #FFFFFF;\n",
              "    }\n",
              "  </style>\n",
              "\n",
              "    <script>\n",
              "      const buttonEl =\n",
              "        document.querySelector('#df-3d40e2f2-5d7e-47d2-a191-bc91fcc30ede button.colab-df-convert');\n",
              "      buttonEl.style.display =\n",
              "        google.colab.kernel.accessAllowed ? 'block' : 'none';\n",
              "\n",
              "      async function convertToInteractive(key) {\n",
              "        const element = document.querySelector('#df-3d40e2f2-5d7e-47d2-a191-bc91fcc30ede');\n",
              "        const dataTable =\n",
              "          await google.colab.kernel.invokeFunction('convertToInteractive',\n",
              "                                                    [key], {});\n",
              "        if (!dataTable) return;\n",
              "\n",
              "        const docLinkHtml = 'Like what you see? Visit the ' +\n",
              "          '<a target=\"_blank\" href=https://colab.research.google.com/notebooks/data_table.ipynb>data table notebook</a>'\n",
              "          + ' to learn more about interactive tables.';\n",
              "        element.innerHTML = '';\n",
              "        dataTable['output_type'] = 'display_data';\n",
              "        await google.colab.output.renderOutput(dataTable, element);\n",
              "        const docLink = document.createElement('div');\n",
              "        docLink.innerHTML = docLinkHtml;\n",
              "        element.appendChild(docLink);\n",
              "      }\n",
              "    </script>\n",
              "  </div>\n",
              "\n",
              "\n",
              "<div id=\"df-35dab837-8eb4-4ebd-a630-accb5b4794ba\">\n",
              "  <button class=\"colab-df-quickchart\" onclick=\"quickchart('df-35dab837-8eb4-4ebd-a630-accb5b4794ba')\"\n",
              "            title=\"Suggest charts\"\n",
              "            style=\"display:none;\">\n",
              "\n",
              "<svg xmlns=\"http://www.w3.org/2000/svg\" height=\"24px\"viewBox=\"0 0 24 24\"\n",
              "     width=\"24px\">\n",
              "    <g>\n",
              "        <path d=\"M19 3H5c-1.1 0-2 .9-2 2v14c0 1.1.9 2 2 2h14c1.1 0 2-.9 2-2V5c0-1.1-.9-2-2-2zM9 17H7v-7h2v7zm4 0h-2V7h2v10zm4 0h-2v-4h2v4z\"/>\n",
              "    </g>\n",
              "</svg>\n",
              "  </button>\n",
              "\n",
              "<style>\n",
              "  .colab-df-quickchart {\n",
              "      --bg-color: #E8F0FE;\n",
              "      --fill-color: #1967D2;\n",
              "      --hover-bg-color: #E2EBFA;\n",
              "      --hover-fill-color: #174EA6;\n",
              "      --disabled-fill-color: #AAA;\n",
              "      --disabled-bg-color: #DDD;\n",
              "  }\n",
              "\n",
              "  [theme=dark] .colab-df-quickchart {\n",
              "      --bg-color: #3B4455;\n",
              "      --fill-color: #D2E3FC;\n",
              "      --hover-bg-color: #434B5C;\n",
              "      --hover-fill-color: #FFFFFF;\n",
              "      --disabled-bg-color: #3B4455;\n",
              "      --disabled-fill-color: #666;\n",
              "  }\n",
              "\n",
              "  .colab-df-quickchart {\n",
              "    background-color: var(--bg-color);\n",
              "    border: none;\n",
              "    border-radius: 50%;\n",
              "    cursor: pointer;\n",
              "    display: none;\n",
              "    fill: var(--fill-color);\n",
              "    height: 32px;\n",
              "    padding: 0;\n",
              "    width: 32px;\n",
              "  }\n",
              "\n",
              "  .colab-df-quickchart:hover {\n",
              "    background-color: var(--hover-bg-color);\n",
              "    box-shadow: 0 1px 2px rgba(60, 64, 67, 0.3), 0 1px 3px 1px rgba(60, 64, 67, 0.15);\n",
              "    fill: var(--button-hover-fill-color);\n",
              "  }\n",
              "\n",
              "  .colab-df-quickchart-complete:disabled,\n",
              "  .colab-df-quickchart-complete:disabled:hover {\n",
              "    background-color: var(--disabled-bg-color);\n",
              "    fill: var(--disabled-fill-color);\n",
              "    box-shadow: none;\n",
              "  }\n",
              "\n",
              "  .colab-df-spinner {\n",
              "    border: 2px solid var(--fill-color);\n",
              "    border-color: transparent;\n",
              "    border-bottom-color: var(--fill-color);\n",
              "    animation:\n",
              "      spin 1s steps(1) infinite;\n",
              "  }\n",
              "\n",
              "  @keyframes spin {\n",
              "    0% {\n",
              "      border-color: transparent;\n",
              "      border-bottom-color: var(--fill-color);\n",
              "      border-left-color: var(--fill-color);\n",
              "    }\n",
              "    20% {\n",
              "      border-color: transparent;\n",
              "      border-left-color: var(--fill-color);\n",
              "      border-top-color: var(--fill-color);\n",
              "    }\n",
              "    30% {\n",
              "      border-color: transparent;\n",
              "      border-left-color: var(--fill-color);\n",
              "      border-top-color: var(--fill-color);\n",
              "      border-right-color: var(--fill-color);\n",
              "    }\n",
              "    40% {\n",
              "      border-color: transparent;\n",
              "      border-right-color: var(--fill-color);\n",
              "      border-top-color: var(--fill-color);\n",
              "    }\n",
              "    60% {\n",
              "      border-color: transparent;\n",
              "      border-right-color: var(--fill-color);\n",
              "    }\n",
              "    80% {\n",
              "      border-color: transparent;\n",
              "      border-right-color: var(--fill-color);\n",
              "      border-bottom-color: var(--fill-color);\n",
              "    }\n",
              "    90% {\n",
              "      border-color: transparent;\n",
              "      border-bottom-color: var(--fill-color);\n",
              "    }\n",
              "  }\n",
              "</style>\n",
              "\n",
              "  <script>\n",
              "    async function quickchart(key) {\n",
              "      const quickchartButtonEl =\n",
              "        document.querySelector('#' + key + ' button');\n",
              "      quickchartButtonEl.disabled = true;  // To prevent multiple clicks.\n",
              "      quickchartButtonEl.classList.add('colab-df-spinner');\n",
              "      try {\n",
              "        const charts = await google.colab.kernel.invokeFunction(\n",
              "            'suggestCharts', [key], {});\n",
              "      } catch (error) {\n",
              "        console.error('Error during call to suggestCharts:', error);\n",
              "      }\n",
              "      quickchartButtonEl.classList.remove('colab-df-spinner');\n",
              "      quickchartButtonEl.classList.add('colab-df-quickchart-complete');\n",
              "    }\n",
              "    (() => {\n",
              "      let quickchartButtonEl =\n",
              "        document.querySelector('#df-35dab837-8eb4-4ebd-a630-accb5b4794ba button');\n",
              "      quickchartButtonEl.style.display =\n",
              "        google.colab.kernel.accessAllowed ? 'block' : 'none';\n",
              "    })();\n",
              "  </script>\n",
              "</div>\n",
              "\n",
              "    </div>\n",
              "  </div>\n"
            ],
            "application/vnd.google.colaboratory.intrinsic+json": {
              "type": "dataframe",
              "summary": "{\n  \"name\": \"df\",\n  \"rows\": 8,\n  \"fields\": [\n    {\n      \"column\": \"artist_count\",\n      \"properties\": {\n        \"dtype\": \"number\",\n        \"std\": 336.1646050162828,\n        \"min\": 0.8930441928452764,\n        \"max\": 953.0,\n        \"num_unique_values\": 6,\n        \"samples\": [\n          953.0,\n          1.5561385099685205,\n          8.0\n        ],\n        \"semantic_type\": \"\",\n        \"description\": \"\"\n      }\n    },\n    {\n      \"column\": \"released_year\",\n      \"properties\": {\n        \"dtype\": \"number\",\n        \"std\": 749.6201978911104,\n        \"min\": 11.116218075505918,\n        \"max\": 2023.0,\n        \"num_unique_values\": 7,\n        \"samples\": [\n          953.0,\n          2018.2381951731375,\n          2022.0\n        ],\n        \"semantic_type\": \"\",\n        \"description\": \"\"\n      }\n    },\n    {\n      \"column\": \"released_month\",\n      \"properties\": {\n        \"dtype\": \"number\",\n        \"std\": 334.9038241942776,\n        \"min\": 1.0,\n        \"max\": 953.0,\n        \"num_unique_values\": 8,\n        \"samples\": [\n          6.033578174186778,\n          6.0,\n          953.0\n        ],\n        \"semantic_type\": \"\",\n        \"description\": \"\"\n      }\n    },\n    {\n      \"column\": \"released_day\",\n      \"properties\": {\n        \"dtype\": \"number\",\n        \"std\": 332.21202679733796,\n        \"min\": 1.0,\n        \"max\": 953.0,\n        \"num_unique_values\": 8,\n        \"samples\": [\n          13.930745015739769,\n          13.0,\n          953.0\n        ],\n        \"semantic_type\": \"\",\n        \"description\": \"\"\n      }\n    },\n    {\n      \"column\": \"in_spotify_playlists\",\n      \"properties\": {\n        \"dtype\": \"number\",\n        \"std\": 17768.89232716484,\n        \"min\": 31.0,\n        \"max\": 52898.0,\n        \"num_unique_values\": 8,\n        \"samples\": [\n          5200.124868835257,\n          2224.0,\n          953.0\n        ],\n        \"semantic_type\": \"\",\n        \"description\": \"\"\n      }\n    },\n    {\n      \"column\": \"in_spotify_charts\",\n      \"properties\": {\n        \"dtype\": \"number\",\n        \"std\": 330.6118982050042,\n        \"min\": 0.0,\n        \"max\": 953.0,\n        \"num_unique_values\": 7,\n        \"samples\": [\n          953.0,\n          12.009443861490032,\n          16.0\n        ],\n        \"semantic_type\": \"\",\n        \"description\": \"\"\n      }\n    },\n    {\n      \"column\": \"in_apple_playlists\",\n      \"properties\": {\n        \"dtype\": \"number\",\n        \"std\": 363.0991080030054,\n        \"min\": 0.0,\n        \"max\": 953.0,\n        \"num_unique_values\": 8,\n        \"samples\": [\n          67.8121720881427,\n          34.0,\n          953.0\n        ],\n        \"semantic_type\": \"\",\n        \"description\": \"\"\n      }\n    },\n    {\n      \"column\": \"in_apple_charts\",\n      \"properties\": {\n        \"dtype\": \"number\",\n        \"std\": 323.1046740644116,\n        \"min\": 0.0,\n        \"max\": 953.0,\n        \"num_unique_values\": 8,\n        \"samples\": [\n          51.9087093389297,\n          38.0,\n          953.0\n        ],\n        \"semantic_type\": \"\",\n        \"description\": \"\"\n      }\n    },\n    {\n      \"column\": \"in_deezer_charts\",\n      \"properties\": {\n        \"dtype\": \"number\",\n        \"std\": 334.0522172820573,\n        \"min\": 0.0,\n        \"max\": 953.0,\n        \"num_unique_values\": 6,\n        \"samples\": [\n          953.0,\n          2.666316894018888,\n          58.0\n        ],\n        \"semantic_type\": \"\",\n        \"description\": \"\"\n      }\n    },\n    {\n      \"column\": \"bpm\",\n      \"properties\": {\n        \"dtype\": \"number\",\n        \"std\": 301.9878782951856,\n        \"min\": 28.057801508156196,\n        \"max\": 953.0,\n        \"num_unique_values\": 8,\n        \"samples\": [\n          122.54039874081847,\n          121.0,\n          953.0\n        ],\n        \"semantic_type\": \"\",\n        \"description\": \"\"\n      }\n    },\n    {\n      \"column\": \"danceability_%\",\n      \"properties\": {\n        \"dtype\": \"number\",\n        \"std\": 317.66158926198943,\n        \"min\": 14.6306098744348,\n        \"max\": 953.0,\n        \"num_unique_values\": 8,\n        \"samples\": [\n          66.96956977964324,\n          69.0,\n          953.0\n        ],\n        \"semantic_type\": \"\",\n        \"description\": \"\"\n      }\n    },\n    {\n      \"column\": \"valence_%\",\n      \"properties\": {\n        \"dtype\": \"number\",\n        \"std\": 321.59052272957194,\n        \"min\": 4.0,\n        \"max\": 953.0,\n        \"num_unique_values\": 8,\n        \"samples\": [\n          51.43126967471144,\n          51.0,\n          953.0\n        ],\n        \"semantic_type\": \"\",\n        \"description\": \"\"\n      }\n    },\n    {\n      \"column\": \"energy_%\",\n      \"properties\": {\n        \"dtype\": \"number\",\n        \"std\": 318.9589360240247,\n        \"min\": 9.0,\n        \"max\": 953.0,\n        \"num_unique_values\": 8,\n        \"samples\": [\n          64.2791185729276,\n          66.0,\n          953.0\n        ],\n        \"semantic_type\": \"\",\n        \"description\": \"\"\n      }\n    },\n    {\n      \"column\": \"acousticness_%\",\n      \"properties\": {\n        \"dtype\": \"number\",\n        \"std\": 327.35011443913976,\n        \"min\": 0.0,\n        \"max\": 953.0,\n        \"num_unique_values\": 8,\n        \"samples\": [\n          27.057712486883524,\n          18.0,\n          953.0\n        ],\n        \"semantic_type\": \"\",\n        \"description\": \"\"\n      }\n    },\n    {\n      \"column\": \"instrumentalness_%\",\n      \"properties\": {\n        \"dtype\": \"number\",\n        \"std\": 333.3168943984445,\n        \"min\": 0.0,\n        \"max\": 953.0,\n        \"num_unique_values\": 5,\n        \"samples\": [\n          1.5813221406086044,\n          91.0,\n          8.40979992655771\n        ],\n        \"semantic_type\": \"\",\n        \"description\": \"\"\n      }\n    },\n    {\n      \"column\": \"liveness_%\",\n      \"properties\": {\n        \"dtype\": \"number\",\n        \"std\": 329.3051143377058,\n        \"min\": 3.0,\n        \"max\": 953.0,\n        \"num_unique_values\": 8,\n        \"samples\": [\n          18.213011542497377,\n          12.0,\n          953.0\n        ],\n        \"semantic_type\": \"\",\n        \"description\": \"\"\n      }\n    },\n    {\n      \"column\": \"speechiness_%\",\n      \"properties\": {\n        \"dtype\": \"number\",\n        \"std\": 332.1405106542744,\n        \"min\": 2.0,\n        \"max\": 953.0,\n        \"num_unique_values\": 8,\n        \"samples\": [\n          10.131164742917104,\n          6.0,\n          953.0\n        ],\n        \"semantic_type\": \"\",\n        \"description\": \"\"\n      }\n    }\n  ]\n}"
            }
          },
          "metadata": {},
          "execution_count": 5
        }
      ]
    },
    {
      "cell_type": "code",
      "source": [
        "# Get unique values from the 'key' and 'mode' columns\n",
        "unique_keys = df['key'].unique()\n",
        "unique_modes = df['mode'].unique()\n",
        "\n",
        "print(\"Unique values in 'key' column:\", unique_keys)\n",
        "print(\"Unique values in 'mode' column:\", unique_modes)\n",
        "\n",
        "# Get the unique types of the values in the 'streams' column\n",
        "unique_stream_types = df['streams'].apply(type).unique()\n",
        "\n",
        "print(\"Unique types in 'streams' column:\", unique_stream_types)"
      ],
      "metadata": {
        "colab": {
          "base_uri": "https://localhost:8080/"
        },
        "id": "qZWJK9m4q4_L",
        "outputId": "06d29740-2320-4d7e-e3e3-dae4a7113b93"
      },
      "execution_count": null,
      "outputs": [
        {
          "output_type": "stream",
          "name": "stdout",
          "text": [
            "Unique values in 'key' column: ['B' 'C#' 'F' 'A' 'D' 'F#' nan 'G#' 'G' 'E' 'A#' 'D#']\n",
            "Unique values in 'mode' column: ['Major' 'Minor']\n",
            "Unique types in 'streams' column: [<class 'str'>]\n"
          ]
        }
      ]
    },
    {
      "cell_type": "code",
      "source": [
        "# Get unique values and their counts from the 'key' column\n",
        "key_counts = df['key'].value_counts()\n",
        "\n",
        "# Get unique values and their counts from the 'mode' column\n",
        "mode_counts = df['mode'].value_counts()\n",
        "\n",
        "print(\"Unique values and counts in 'key' column:\")\n",
        "print(key_counts)\n",
        "\n",
        "print(\"\\nUnique values and counts in 'mode' column:\")\n",
        "print(mode_counts)"
      ],
      "metadata": {
        "colab": {
          "base_uri": "https://localhost:8080/"
        },
        "id": "yIGAn-GarVW4",
        "outputId": "4fa58e71-b42b-40ee-f6df-2fd61ebef4e0"
      },
      "execution_count": null,
      "outputs": [
        {
          "output_type": "stream",
          "name": "stdout",
          "text": [
            "Unique values and counts in 'key' column:\n",
            "key\n",
            "C#    120\n",
            "G      96\n",
            "G#     91\n",
            "F      89\n",
            "B      81\n",
            "D      81\n",
            "A      75\n",
            "F#     73\n",
            "E      62\n",
            "A#     57\n",
            "D#     33\n",
            "Name: count, dtype: int64\n",
            "\n",
            "Unique values and counts in 'mode' column:\n",
            "mode\n",
            "Major    550\n",
            "Minor    403\n",
            "Name: count, dtype: int64\n"
          ]
        }
      ]
    },
    {
      "cell_type": "code",
      "source": [
        "# Count the number of songs in the key of C\n",
        "songs_in_key_C = df[df['key'] == 'C']\n",
        "\n",
        "# Get the count\n",
        "count_in_key_C = len(songs_in_key_C)\n",
        "\n",
        "print(f\"Number of songs in the key of C: {count_in_key_C}\")\n"
      ],
      "metadata": {
        "colab": {
          "base_uri": "https://localhost:8080/"
        },
        "id": "IHiC1DSw4Gdt",
        "outputId": "a10b8cd4-f0f8-48be-fdf2-05c692a23537"
      },
      "execution_count": null,
      "outputs": [
        {
          "output_type": "stream",
          "name": "stdout",
          "text": [
            "Number of songs in the key of C: 0\n"
          ]
        }
      ]
    },
    {
      "cell_type": "code",
      "source": [
        "# Group by 'key' and 'mode', and count the number of songs\n",
        "key_mode_counts = df.groupby(['key', 'mode']).size().reset_index(name='count')\n",
        "\n",
        "print(\"Count of songs per key and mode:\")\n",
        "print(key_mode_counts)"
      ],
      "metadata": {
        "colab": {
          "base_uri": "https://localhost:8080/"
        },
        "id": "tQrcjYrIrnZ_",
        "outputId": "1af58085-5b05-45ad-fbb4-8bcaa584464f"
      },
      "execution_count": null,
      "outputs": [
        {
          "output_type": "stream",
          "name": "stdout",
          "text": [
            "Count of songs per key and mode:\n",
            "   key   mode  count\n",
            "0    A  Major     42\n",
            "1    A  Minor     33\n",
            "2   A#  Major     27\n",
            "3   A#  Minor     30\n",
            "4    B  Major     35\n",
            "5    B  Minor     46\n",
            "6   C#  Major     73\n",
            "7   C#  Minor     47\n",
            "8    D  Major     66\n",
            "9    D  Minor     15\n",
            "10  D#  Major     12\n",
            "11  D#  Minor     21\n",
            "12   E  Major     17\n",
            "13   E  Minor     45\n",
            "14   F  Major     44\n",
            "15   F  Minor     45\n",
            "16  F#  Major     30\n",
            "17  F#  Minor     43\n",
            "18   G  Major     66\n",
            "19   G  Minor     30\n",
            "20  G#  Major     63\n",
            "21  G#  Minor     28\n"
          ]
        }
      ]
    },
    {
      "cell_type": "markdown",
      "source": [
        "**Study the correlation between musical attributes and song popularity.**"
      ],
      "metadata": {
        "id": "qBii1rvsZb3t"
      }
    },
    {
      "cell_type": "markdown",
      "source": [
        "There is a commonly held belief that key and mode may have an impact on the song's popularity, lets see if the data supports this theory.\n",
        "\n",
        "Null hypothesis: there is no difference between key and mode on streams.\n",
        "Alternative hypothesis: there is significant interaction effect between key and mode on streams."
      ],
      "metadata": {
        "id": "36sjaYzMZkKW"
      }
    },
    {
      "cell_type": "code",
      "source": [
        "import statsmodels.api as sm\n",
        "from statsmodels.formula.api import ols\n",
        "\n",
        "# Ensure 'streams' column is numeric, and coerce any errors\n",
        "df['streams'] = pd.to_numeric(df['streams'], errors='coerce')\n",
        "\n",
        "# Filter relevant columns for analysis, drop rows with NaNs in 'streams'\n",
        "df_anova = df[['streams', 'key', 'mode']].dropna(subset=['streams', 'key', 'mode'])\n",
        "\n",
        "# Convert 'key' and 'mode' to categorical variables\n",
        "df_anova['key'] = df_anova['key'].astype('category')\n",
        "df_anova['mode'] = df_anova['mode'].astype('category')\n",
        "\n",
        "# Define the two-way ANOVA model with interaction\n",
        "model = ols('streams ~ C(key) * C(mode)', data=df_anova).fit()\n",
        "\n",
        "# Perform ANOVA\n",
        "anova_table = sm.stats.anova_lm(model, typ=2)  # Type II ANOVA\n",
        "print(anova_table)"
      ],
      "metadata": {
        "colab": {
          "base_uri": "https://localhost:8080/"
        },
        "id": "JfUiYQJCZbPu",
        "outputId": "4b68c2c8-a0e9-47ad-abbd-47ff1f205a3f"
      },
      "execution_count": null,
      "outputs": [
        {
          "output_type": "stream",
          "name": "stdout",
          "text": [
            "                      sum_sq     df         F    PR(>F)\n",
            "C(key)          3.203675e+18   10.0  0.983726  0.455844\n",
            "C(mode)         1.097300e+18    1.0  3.369389  0.066774\n",
            "C(key):C(mode)  3.656775e+18   10.0  1.122855  0.341617\n",
            "Residual        2.719324e+20  835.0       NaN       NaN\n"
          ]
        }
      ]
    },
    {
      "cell_type": "markdown",
      "source": [
        "The key has a high p-value: 0.455844. The key has no significant effect on streams.\n",
        "The mode has a p-value of 0.066774 indicating a slight influence on streams, but not at significance levels.\n",
        "The interaction of key and mode has a p-value of 0.341617, which indicate that the combination of key and mode has no significant influence on streams.\n",
        "\n",
        "These results are surprising to me. It is widely held belief amongst musicians that major keys (the major mode) dominates the majority of popular music. I would have expected the majority of most streamed songs to be of the major mode by such a wide margin that it would meet significance levels. It looks like there is some influence, but not at significance levels. So we cannot reject the null hypothesis."
      ],
      "metadata": {
        "id": "ue2rHIbGbJsT"
      }
    },
    {
      "cell_type": "code",
      "source": [
        "# Group by mode and calculate mean streams\n",
        "mode_means = df_anova.groupby('mode')['streams'].mean().reset_index()\n",
        "print(mode_means)\n"
      ],
      "metadata": {
        "colab": {
          "base_uri": "https://localhost:8080/"
        },
        "id": "mmEHDUkXaVzO",
        "outputId": "447baddc-8cd5-4ec3-fddc-65a6fe39eeb7"
      },
      "execution_count": null,
      "outputs": [
        {
          "output_type": "stream",
          "name": "stdout",
          "text": [
            "    mode       streams\n",
            "0  Major  5.403524e+08\n",
            "1  Minor  4.799439e+08\n"
          ]
        },
        {
          "output_type": "stream",
          "name": "stderr",
          "text": [
            "<ipython-input-11-d2b5261becaf>:2: FutureWarning: The default of observed=False is deprecated and will be changed to True in a future version of pandas. Pass observed=False to retain current behavior or observed=True to adopt the future default and silence this warning.\n",
            "  mode_means = df_anova.groupby('mode')['streams'].mean().reset_index()\n"
          ]
        }
      ]
    },
    {
      "cell_type": "markdown",
      "source": [
        "It looks like the major mode gets more streams than the minor mode."
      ],
      "metadata": {
        "id": "xj17j7USc0Ds"
      }
    },
    {
      "cell_type": "markdown",
      "source": [
        "Let's take a look at all of the musical attributes and see it's impact on song streams\n",
        "\n",
        "null hypothesis: there is no significant effct of the musical attributes on the song streams.\n",
        "Alternative hypothesis: at least one musical attribute group mean is significantly different or at least one musical attribute has a significant effect on streams."
      ],
      "metadata": {
        "id": "dZfEQf24hioJ"
      }
    },
    {
      "cell_type": "code",
      "source": [
        "# Filter relevant columns for analysis, drop rows with NaNs\n",
        "df_musical_attributes = df[['streams', 'bpm', 'key', 'mode',\n",
        "                'danceability_%', 'valence_%', 'energy_%',\n",
        "                'acousticness_%', 'instrumentalness_%',\n",
        "                'liveness_%', 'speechiness_%']].dropna()\n",
        "\n",
        "# Rename columns to remove special characters\n",
        "df_musical_attributes.rename(columns={\n",
        "    'danceability_%': 'danceability',\n",
        "    'valence_%': 'valence',\n",
        "    'energy_%': 'energy',\n",
        "    'acousticness_%': 'acousticness',\n",
        "    'instrumentalness_%': 'instrumentalness',\n",
        "    'liveness_%': 'liveness',\n",
        "    'speechiness_%': 'speechiness'\n",
        "}, inplace=True)\n",
        "\n",
        "# Convert categorical variables to category type\n",
        "df_musical_attributes['key'] = df_musical_attributes['key'].astype('category')\n",
        "df_musical_attributes['mode'] = df_musical_attributes['mode'].astype('category')\n",
        "\n",
        "# Define the ANOVA model with renamed columns\n",
        "formula = 'streams ~ bpm + C(key) + C(mode) + danceability + valence + energy + acousticness + instrumentalness + liveness + speechiness'\n",
        "model = ols(formula, data=df_musical_attributes).fit()\n",
        "\n",
        "anova_table = sm.stats.anova_lm(model, typ=2)  # Type II ANOVA\n",
        "print(anova_table)"
      ],
      "metadata": {
        "colab": {
          "base_uri": "https://localhost:8080/"
        },
        "id": "Hnr1mqybhr9Q",
        "outputId": "dc9f1906-456e-4804-ec14-0a5a7f25bbc3"
      },
      "execution_count": null,
      "outputs": [
        {
          "output_type": "stream",
          "name": "stdout",
          "text": [
            "                        sum_sq     df         F    PR(>F)\n",
            "C(key)            3.650400e+18   10.0  1.141047  0.328141\n",
            "C(mode)           3.749990e+17    1.0  1.172177  0.279266\n",
            "bpm               3.727565e+16    1.0  0.116517  0.732929\n",
            "danceability      1.985236e+18    1.0  6.205477  0.012928\n",
            "valence           2.811917e+16    1.0  0.087895  0.766944\n",
            "energy            2.690051e+17    1.0  0.840860  0.359415\n",
            "acousticness      2.169983e+17    1.0  0.678296  0.410409\n",
            "instrumentalness  9.680692e+17    1.0  3.026004  0.082307\n",
            "liveness          1.164282e+18    1.0  3.639328  0.056772\n",
            "speechiness       2.855591e+18    1.0  8.926046  0.002893\n",
            "Residual          2.677703e+20  837.0       NaN       NaN\n"
          ]
        }
      ]
    },
    {
      "cell_type": "markdown",
      "source": [
        "For the key, mode, bpm, valence, energy, acousticness, and instrumentalness, the p-value is lower than significance levels, so we fail to reject the null hypothesis, so those musical attributes have no significant effect on the song streams.\n",
        "\n",
        "For the danceability, and speechiness, the p-value is below significance levels, so we reject the null hypothesis, so those musical attributes have a significant effect on song streams. The liveness of the song is right on the cutoff of significant levels, so its a little ambiguous."
      ],
      "metadata": {
        "id": "mEwWVqcPjQ8j"
      }
    },
    {
      "cell_type": "markdown",
      "source": [
        "We've done the anova test, which suggests that perhaps danceability, speechiness and liveiness may have influence on the song streams. Let's see the effect of the musical attributes upon the song streams.\n",
        "\n",
        "Null hypothesis: There is no effect of the musical attributes on streams (0 effect)\n",
        "\n",
        "Alternative hypothesis: At least one of the musical attributes has a significant effect on the streams"
      ],
      "metadata": {
        "id": "ncRq-9Q7maM2"
      }
    },
    {
      "cell_type": "code",
      "source": [
        "# Filter relevant columns for analysis, drop rows with NaNs in the selected columns\n",
        "df_musical_attributes = df[['streams', 'bpm', 'key', 'mode', 'danceability_%', 'valence_%',\n",
        "             'energy_%', 'acousticness_%', 'instrumentalness_%',\n",
        "             'liveness_%', 'speechiness_%']].dropna()\n",
        "\n",
        "# Rename columns to remove special characters\n",
        "df_musical_attributes.rename(columns={\n",
        "    'danceability_%': 'danceability',\n",
        "    'valence_%': 'valence',\n",
        "    'energy_%': 'energy',\n",
        "    'acousticness_%': 'acousticness',\n",
        "    'instrumentalness_%': 'instrumentalness',\n",
        "    'liveness_%': 'liveness',\n",
        "    'speechiness_%': 'speechiness'\n",
        "}, inplace=True)\n",
        "\n",
        "# Define the formula for the regression model\n",
        "# Use the correct names that match the DataFrame after renaming\n",
        "formula = 'streams ~ bpm + C(key) + C(mode) + danceability + valence + energy + acousticness + instrumentalness + liveness + speechiness'\n",
        "\n",
        "# Fit the Multiple Linear Regression model\n",
        "model = sm.OLS.from_formula(formula, data=df_musical_attributes).fit()\n",
        "\n",
        "print(model.summary())\n"
      ],
      "metadata": {
        "colab": {
          "base_uri": "https://localhost:8080/"
        },
        "id": "SuZaQRAehtQn",
        "outputId": "8723f075-8ab0-4026-9d26-9c735e018c8f"
      },
      "execution_count": null,
      "outputs": [
        {
          "output_type": "stream",
          "name": "stdout",
          "text": [
            "                            OLS Regression Results                            \n",
            "==============================================================================\n",
            "Dep. Variable:                streams   R-squared:                       0.042\n",
            "Model:                            OLS   Adj. R-squared:                  0.020\n",
            "Method:                 Least Squares   F-statistic:                     1.941\n",
            "Date:                Tue, 19 Nov 2024   Prob (F-statistic):            0.00930\n",
            "Time:                        17:57:34   Log-Likelihood:                -18477.\n",
            "No. Observations:                 857   AIC:                         3.699e+04\n",
            "Df Residuals:                     837   BIC:                         3.709e+04\n",
            "Df Model:                          19                                         \n",
            "Covariance Type:            nonrobust                                         \n",
            "====================================================================================\n",
            "                       coef    std err          t      P>|t|      [0.025      0.975]\n",
            "------------------------------------------------------------------------------------\n",
            "Intercept         9.245e+08   1.95e+08      4.752      0.000    5.43e+08    1.31e+09\n",
            "C(key)[T.A#]      1.638e+08      1e+08      1.633      0.103   -3.31e+07    3.61e+08\n",
            "C(key)[T.B]        1.43e+08   9.19e+07      1.557      0.120   -3.73e+07    3.23e+08\n",
            "C(key)[T.C#]      2.238e+08   8.45e+07      2.650      0.008    5.81e+07     3.9e+08\n",
            "C(key)[T.D]       1.232e+08    9.2e+07      1.340      0.181   -5.73e+07    3.04e+08\n",
            "C(key)[T.D#]      1.684e+08   1.19e+08      1.417      0.157   -6.49e+07    4.02e+08\n",
            "C(key)[T.E]       1.906e+08   9.86e+07      1.933      0.054   -2.94e+06    3.84e+08\n",
            "C(key)[T.F]       7.958e+07   8.94e+07      0.890      0.374    -9.6e+07    2.55e+08\n",
            "C(key)[T.F#]      1.435e+08   9.44e+07      1.520      0.129   -4.18e+07    3.29e+08\n",
            "C(key)[T.G]       4.353e+07   8.81e+07      0.494      0.621   -1.29e+08    2.16e+08\n",
            "C(key)[T.G#]      8.674e+07   8.93e+07      0.972      0.332   -8.85e+07    2.62e+08\n",
            "C(mode)[T.Minor] -4.489e+07   4.15e+07     -1.083      0.279   -1.26e+08    3.65e+07\n",
            "bpm              -2.406e+05   7.05e+05     -0.341      0.733   -1.62e+06    1.14e+06\n",
            "danceability     -3.933e+06   1.58e+06     -2.491      0.013   -7.03e+06   -8.34e+05\n",
            "valence           2.959e+05   9.98e+05      0.296      0.767   -1.66e+06    2.26e+06\n",
            "energy            -1.47e+06    1.6e+06     -0.917      0.359   -4.62e+06    1.68e+06\n",
            "acousticness     -7.957e+05   9.66e+05     -0.824      0.410   -2.69e+06     1.1e+06\n",
            "instrumentalness -3.999e+06    2.3e+06     -1.740      0.082   -8.51e+06    5.13e+05\n",
            "liveness         -2.761e+06   1.45e+06     -1.908      0.057    -5.6e+06    7.97e+04\n",
            "speechiness      -5.953e+06   1.99e+06     -2.988      0.003   -9.86e+06   -2.04e+06\n",
            "==============================================================================\n",
            "Omnibus:                      333.930   Durbin-Watson:                   1.556\n",
            "Prob(Omnibus):                  0.000   Jarque-Bera (JB):             1136.904\n",
            "Skew:                           1.910   Prob(JB):                    1.33e-247\n",
            "Kurtosis:                       7.153   Cond. No.                     2.06e+03\n",
            "==============================================================================\n",
            "\n",
            "Notes:\n",
            "[1] Standard Errors assume that the covariance matrix of the errors is correctly specified.\n",
            "[2] The condition number is large, 2.06e+03. This might indicate that there are\n",
            "strong multicollinearity or other numerical problems.\n"
          ]
        }
      ]
    },
    {
      "cell_type": "markdown",
      "source": [
        "The R-squared value is small, it suggests that only 4.2% of the variance in streams can be explained by this model as a whole. So the model as a whole does a poor job of explaining variability. Adjusted R-squared is lower, saying the same thing.\n",
        "\n",
        "The F-statistic of 1.941 is low and indicates that the model has weak explanatory power. It doesn't do a good job of predicting the song streams. The Prob (F-statistic) is low enough to be significant though. So even though the model of the whole doesn't predict well, there is  evidence that at least one of the musical attributes is related to the song streams.\n",
        "\n",
        "Most of the musical attributes have high p-values above statistically signifance levels, so we won't discuss those. They are showing no effect on song streams.\n",
        "\n",
        "The key of C(key)[T.C#] has a low p-value at statistically significance levels. So it appears to have an effect on the streams. It has a co-efficient of 2.238e+08, which sugggests that songs in the key of C# are associated with approximately 223.8 million more streams than the reference category with the key of C. The reason for the reference category being the key of C is due to the centrality and commonness in music. Its generally considered the baseline key of which the other keys are built upon. Other keys are arguably extensions of the key of C.\n",
        "\n",
        "danceability% has a low p-value at statistically significant levels. So it has an effect on streams. It has a co-efficient of -3.933e+06, suggesting that higher the danceability is associated with fewer streams. This is very surprsing, I would have expected the opposite to be true in that the more danceable, the more streams.\n",
        "\n",
        "speechiness% has a low p-value at statistically significance levels. So it has an effect on streams. It has a co-efficient of -5.953e+06, suggesting that  higher the speechiness in the song, the fewer streams. This is what I would expect intuition wise. I would expect that the more talking, the less popular the song.\n",
        "\n",
        "Summary: danceability_% and speechiness_% have sgnificantly negative effects on the number os streams. The key of C# has a significantly positive effect."
      ],
      "metadata": {
        "id": "hCP7qWlEmKkE"
      }
    },
    {
      "cell_type": "code",
      "source": [
        "import seaborn as sns\n",
        "import matplotlib.pyplot as plt\n",
        "import statsmodels.api as sm\n",
        "\n",
        "# Create a pair plot for the musical attributes against streams\n",
        "# First, filter the DataFrame to include only numeric columns and the target variable\n",
        "numeric_columns = ['streams', 'bpm', 'danceability', 'valence', 'energy', 'acousticness', 'instrumentalness', 'liveness', 'speechiness']\n",
        "df_pairplot = df_musical_attributes[numeric_columns]\n",
        "\n",
        "# Create a pair plot with density coloring\n",
        "plt.figure(figsize=(12, 10))\n",
        "sns.pairplot(df_pairplot, diag_kind='kde', plot_kws={'alpha': 0.6})\n",
        "plt.suptitle('Pair Plot of Musical Attributes vs. Streams', y=1.02)\n",
        "plt.show()\n"
      ],
      "metadata": {
        "colab": {
          "base_uri": "https://localhost:8080/",
          "height": 1000
        },
        "id": "CyU-oHRxkXi4",
        "outputId": "01cfec13-6039-4d85-c7a0-c214864f41b3"
      },
      "execution_count": null,
      "outputs": [
        {
          "output_type": "stream",
          "text": [
            "\u001b[1;30;43mThis cell output is too large and can only be displayed while logged in.\u001b[0m\n"
          ]
        }
      ]
    },
    {
      "cell_type": "markdown",
      "source": [
        "I find it interesting to note that even though the multiple linear regression suggests that danceability_% and speechiness_% have significantly effects on the number of streams, the relationship is not obvious from looking the scatter plots."
      ],
      "metadata": {
        "id": "54wLtxUux1Fg"
      }
    },
    {
      "cell_type": "markdown",
      "source": [
        "# Build machine learning models to predict song chart rankings based on various features."
      ],
      "metadata": {
        "id": "BfW-qmzABSb6"
      }
    },
    {
      "cell_type": "markdown",
      "source": [
        "Let's run a Random Forest Regressor model on the data to predict the streams. We're going to focus on only a few of the columns that are logically independent from the streams.\n",
        "\n",
        "'artist_count', 'released_month', 'released_day', 'streams',\n",
        "    'bpm', 'key', 'mode', 'danceability_%', 'valence_%',\n",
        "    'energy_%', 'acousticness_%', 'instrumentalness_%',\n",
        "    'liveness_%', 'speechiness_%'\n",
        "\n",
        "We're not going to look at 'track_name', 'artist(s)_name', 'cover_url' because these are likely to provide unmeaningful influences. Track name and cover_url would provide nonmeaningful results. Artist name might result in high streams, but it won't be useful for determining a song without the exact same artist name.\n",
        "\n",
        "We're not going to look at\n",
        "'released_year', 'in_spotify_playlists', 'in_spotify_charts', 'streams', 'in_apple_playlists', 'in_apple_charts', 'in_deezer_playlists', 'in_deezer_charts', 'in_shazam_charts',\n",
        "\n",
        "because these are backwards looking results rather than potentially causal variable factors"
      ],
      "metadata": {
        "id": "fSR9yeaeI-pO"
      }
    },
    {
      "cell_type": "code",
      "source": [],
      "metadata": {
        "id": "Pv4LY97mCbJL"
      },
      "execution_count": null,
      "outputs": []
    },
    {
      "cell_type": "code",
      "source": [
        "import pandas as pd\n",
        "from sklearn.model_selection import train_test_split\n",
        "from sklearn.ensemble import RandomForestRegressor\n",
        "from sklearn.metrics import mean_squared_error, r2_score\n",
        "from sklearn.preprocessing import StandardScaler, LabelEncoder\n",
        "\n",
        "# Load the dataset\n",
        "df = pd.read_csv(csv_file)\n",
        "\n",
        "# Selecting only the relevant columns\n",
        "columns_to_use = [\n",
        "    'artist_count', 'released_month', 'released_day', 'streams',\n",
        "    'bpm', 'key', 'mode', 'danceability_%', 'valence_%',\n",
        "    'energy_%', 'acousticness_%', 'instrumentalness_%',\n",
        "    'liveness_%', 'speechiness_%'\n",
        "]\n",
        "df = df[columns_to_use]\n",
        "\n",
        "# Drop rows where 'streams' or any relevant column has NaN values\n",
        "df = df.dropna(subset=['streams'])\n",
        "\n",
        "# Ensure 'streams' is numeric (if it isn't already)\n",
        "df['streams'] = pd.to_numeric(df['streams'], errors='coerce')\n",
        "\n",
        "# Drop any rows that have NaN in 'streams' after conversion\n",
        "df = df.dropna(subset=['streams'])\n",
        "\n",
        "# Encode categorical features 'key' and 'mode' using LabelEncoder\n",
        "label_encoder = LabelEncoder()\n",
        "df.loc[:, 'key'] = label_encoder.fit_transform(df['key'].astype(str))\n",
        "df.loc[:, 'mode'] = label_encoder.fit_transform(df['mode'].astype(str))\n",
        "\n",
        "# Separate features and target variable\n",
        "X = df.drop('streams', axis=1)\n",
        "y = df['streams']\n",
        "\n",
        "# Split the data into training and test sets\n",
        "X_train, X_test, y_train, y_test = train_test_split(X, y, test_size=0.2, random_state=42)\n",
        "\n",
        "# Standardize the feature data\n",
        "scaler = StandardScaler()\n",
        "X_train_scaled = scaler.fit_transform(X_train)\n",
        "X_test_scaled = scaler.transform(X_test)\n",
        "\n",
        "# Train the Random Forest Regressor with the scaled features\n",
        "rf_regressor = RandomForestRegressor(random_state=42)\n",
        "rf_regressor.fit(X_train_scaled, y_train)\n",
        "\n",
        "# Make predictions and evaluate the model\n",
        "y_pred = rf_regressor.predict(X_test_scaled)\n",
        "\n",
        "# Evaluate the model\n",
        "mse = mean_squared_error(y_test, y_pred)\n",
        "r2 = r2_score(y_test, y_pred)\n",
        "\n",
        "print(\"Mean Squared Error:\", mse)\n",
        "print(\"R-squared:\", r2)\n"
      ],
      "metadata": {
        "colab": {
          "base_uri": "https://localhost:8080/"
        },
        "id": "qXmz1XAgE8CN",
        "outputId": "f5ab8fed-8455-46e4-8d9b-acee610be225"
      },
      "execution_count": null,
      "outputs": [
        {
          "output_type": "stream",
          "name": "stdout",
          "text": [
            "Mean Squared Error: 2.7101427811146464e+17\n",
            "R-squared: -0.10711700022669324\n"
          ]
        }
      ]
    },
    {
      "cell_type": "markdown",
      "source": [
        "We have a very high Mean Squared error, which indicates that the predictions are far from the actual value. So this model did not do a good job of predicting. This is expected though as found from our earlier multiregression testing suggested that these variables would not be very predictive.\n",
        "\n",
        "Our R-squared value is negative which means the model performs worse than predicting the mean of the target variable for all observations. This suggests that our model is underfitting or that the relationship between the features the predictive streams is weak. This once again is expected from our earlier tests."
      ],
      "metadata": {
        "id": "LGvs4F72LRIl"
      }
    },
    {
      "cell_type": "code",
      "source": [
        "# Get the feature importances from the trained model\n",
        "feature_importances = rf_regressor.feature_importances_\n",
        "\n",
        "# Create a DataFrame to display the features and their importances\n",
        "importance_df = pd.DataFrame({\n",
        "    'Feature': X.columns,\n",
        "    'Importance': feature_importances\n",
        "})\n",
        "\n",
        "# Sort the features by importance\n",
        "importance_df = importance_df.sort_values(by='Importance', ascending=False)\n",
        "\n",
        "# Print the feature importances\n",
        "print(importance_df)\n"
      ],
      "metadata": {
        "colab": {
          "base_uri": "https://localhost:8080/"
        },
        "id": "9-yLibSUEwjx",
        "outputId": "ad2c6f39-11d0-43a1-a08d-8234f0ae9ab4"
      },
      "execution_count": null,
      "outputs": [
        {
          "output_type": "stream",
          "name": "stdout",
          "text": [
            "               Feature  Importance\n",
            "2         released_day    0.143854\n",
            "3                  bpm    0.124790\n",
            "7            valence_%    0.104591\n",
            "9       acousticness_%    0.104573\n",
            "6       danceability_%    0.100889\n",
            "1       released_month    0.082936\n",
            "11          liveness_%    0.082571\n",
            "8             energy_%    0.080968\n",
            "12       speechiness_%    0.065473\n",
            "4                  key    0.060473\n",
            "0         artist_count    0.021924\n",
            "5                 mode    0.018299\n",
            "10  instrumentalness_%    0.008660\n"
          ]
        }
      ]
    },
    {
      "cell_type": "code",
      "source": [],
      "metadata": {
        "id": "PlZ498cxj-Ia"
      },
      "execution_count": null,
      "outputs": []
    },
    {
      "cell_type": "markdown",
      "source": [
        "We can improve our model's performance with Hyperparameter Tuning with Grid Search."
      ],
      "metadata": {
        "id": "G5Am41L3TKLL"
      }
    },
    {
      "cell_type": "code",
      "source": [
        "import time\n",
        "from sklearn.model_selection import RandomizedSearchCV\n",
        "from sklearn.ensemble import RandomForestRegressor\n",
        "from sklearn.metrics import mean_squared_error, r2_score\n",
        "\n",
        "# Define a smaller parameter grid with tighter ranges for faster optimization\n",
        "param_distributions = {\n",
        "    'n_estimators': [50, 100, 200],       # Start with fewer estimators for quicker search\n",
        "    'max_depth': [10, 20, None],          # Focus on common depths\n",
        "    'min_samples_split': [2, 5, 10],      # Common splits\n",
        "    'min_samples_leaf': [1, 2, 4],        # Common leaf sizes\n",
        "    'bootstrap': [True, False]            # Bootstrap options\n",
        "}\n",
        "\n",
        "# Create a RandomizedSearchCV object with reduced combinations\n",
        "random_search = RandomizedSearchCV(\n",
        "    estimator=RandomForestRegressor(random_state=42),\n",
        "    param_distributions=param_distributions,\n",
        "    n_iter=20,  # Number of random samples to try\n",
        "    cv=3,       # Use fewer folds to speed up\n",
        "    n_jobs=-1,  # Use all available CPUs\n",
        "    verbose=2,\n",
        "    random_state=42\n",
        ")\n",
        "\n",
        "# Record start time\n",
        "start_time = time.time()\n",
        "\n",
        "# Fit the RandomizedSearchCV\n",
        "random_search.fit(X_train, y_train)\n",
        "\n",
        "# Record end time and calculate duration\n",
        "end_time = time.time()\n",
        "elapsed_time = end_time - start_time\n",
        "\n",
        "# Get the best parameters\n",
        "print(\"Best parameters found: \", random_search.best_params_)\n",
        "\n",
        "# Get the best estimator\n",
        "best_rf_model = random_search.best_estimator_\n",
        "\n",
        "# Evaluate the best model\n",
        "y_pred = best_rf_model.predict(X_test)\n",
        "mse = mean_squared_error(y_test, y_pred)\n",
        "r2 = r2_score(y_test, y_pred)\n",
        "\n",
        "print(\"Optimized Mean Squared Error:\", mse)\n",
        "print(\"Optimized R-squared:\", r2)\n",
        "print(f\"Elapsed time for hyperparameter tuning: {elapsed_time:.2f} seconds\")\n"
      ],
      "metadata": {
        "colab": {
          "base_uri": "https://localhost:8080/"
        },
        "id": "9VVWrrnOEzK6",
        "outputId": "ebbdd64b-feda-4523-c485-6e1e43379de0"
      },
      "execution_count": null,
      "outputs": [
        {
          "output_type": "stream",
          "name": "stdout",
          "text": [
            "Fitting 3 folds for each of 20 candidates, totalling 60 fits\n"
          ]
        },
        {
          "output_type": "stream",
          "name": "stderr",
          "text": [
            "/usr/local/lib/python3.10/dist-packages/numpy/ma/core.py:2820: RuntimeWarning: invalid value encountered in cast\n",
            "  _data = np.array(data, dtype=dtype, copy=copy,\n"
          ]
        },
        {
          "output_type": "stream",
          "name": "stdout",
          "text": [
            "Best parameters found:  {'n_estimators': 100, 'min_samples_split': 2, 'min_samples_leaf': 4, 'max_depth': 10, 'bootstrap': True}\n",
            "Optimized Mean Squared Error: 2.5225785342976077e+17\n",
            "Optimized R-squared: -0.030495366955971992\n",
            "Elapsed time for hyperparameter tuning: 29.20 seconds\n"
          ]
        }
      ]
    },
    {
      "cell_type": "markdown",
      "source": [
        "After optimizing our model, we were able to reduce our Mean Squared Error slightly. But its still a huge number. So our model still isn't very predictive.\n",
        "\n",
        "Our optimized R-squared value improved a little too, now its closer to 0. But an R-Squared value of 0 just means that the model predicts none of the variance. So its still a ineffective model for predicting streams."
      ],
      "metadata": {
        "id": "cAdAdRrNSxZk"
      }
    },
    {
      "cell_type": "code",
      "source": [
        "\n",
        "from sklearn.ensemble import RandomForestRegressor\n",
        "\n",
        "# Assuming your model is already trained, e.g., with grid search\n",
        "# If the best model is stored in 'best_rf_model' after grid search:\n",
        "model = best_rf_model  # Replace this with your trained Random Forest model\n",
        "\n",
        "# Assuming your feature columns are the ones in your original dataset:\n",
        "feature_names = [\n",
        "    'artist_count', 'released_month', 'released_day', 'bpm', 'key', 'mode',\n",
        "    'danceability_%', 'valence_%', 'energy_%', 'acousticness_%', 'instrumentalness_%',\n",
        "    'liveness_%', 'speechiness_%'\n",
        "]\n",
        "\n",
        "# Get the feature importances from the trained model\n",
        "importances = model.feature_importances_\n",
        "\n",
        "# Create a DataFrame to view the feature importances\n",
        "feature_importance_df = pd.DataFrame({\n",
        "    'Feature': feature_names,\n",
        "    'Importance': importances\n",
        "})\n",
        "\n",
        "# Sort the features by importance in descending order\n",
        "feature_importance_df = feature_importance_df.sort_values(by='Importance', ascending=False)\n",
        "\n",
        "# Print the feature importance\n",
        "print(feature_importance_df)\n"
      ],
      "metadata": {
        "id": "GVErPJGTT3zC",
        "colab": {
          "base_uri": "https://localhost:8080/"
        },
        "outputId": "a274cb72-2b25-4f59-a9b5-121afc2ffb6a"
      },
      "execution_count": null,
      "outputs": [
        {
          "output_type": "stream",
          "name": "stdout",
          "text": [
            "               Feature  Importance\n",
            "2         released_day    0.182018\n",
            "3                  bpm    0.108816\n",
            "6       danceability_%    0.103542\n",
            "1       released_month    0.101770\n",
            "9       acousticness_%    0.098744\n",
            "7            valence_%    0.091530\n",
            "11          liveness_%    0.087118\n",
            "8             energy_%    0.071582\n",
            "4                  key    0.060537\n",
            "12       speechiness_%    0.050265\n",
            "0         artist_count    0.021124\n",
            "5                 mode    0.020221\n",
            "10  instrumentalness_%    0.002732\n"
          ]
        }
      ]
    },
    {
      "cell_type": "markdown",
      "source": [
        "Feature importance is a way of checking how much influence the feature has predictive value. In the results, we see in order of most influence, that released_day has the most impact upon a song's success compared to other factors. It has the most importance in predicting streams. On the far other end, instrumentalness, mode, artist count appear to have essentially no importance in predicting streams."
      ],
      "metadata": {
        "id": "vU_TIj4NzgGG"
      }
    },
    {
      "cell_type": "markdown",
      "source": [
        "Let's determine the optimal combination of features to predict high streams"
      ],
      "metadata": {
        "id": "wgrgHazgXMr2"
      }
    },
    {
      "cell_type": "code",
      "source": [],
      "metadata": {
        "id": "hjoRyuVJYUEI"
      },
      "execution_count": null,
      "outputs": []
    },
    {
      "cell_type": "code",
      "source": [
        "import numpy as np\n",
        "\n",
        "# Handle categorical features separately if needed\n",
        "def fill_missing_features(df, feature_names, X_train):\n",
        "    for feature in feature_names:\n",
        "        if feature not in df.columns:\n",
        "            if X_train[feature].dtype == 'object':  # Handle categorical features\n",
        "                most_frequent_value = X_train[feature].mode()[0]\n",
        "                df[feature] = most_frequent_value\n",
        "            else:  # Handle continuous features\n",
        "                median_value = X_train[feature].median()\n",
        "                df[feature] = median_value\n",
        "    return df\n",
        "\n",
        "# Define feature ranges based on the full range of values in the training dataset\n",
        "feature_ranges = {\n",
        "    feature: [X_train[feature].min(), X_train[feature].max()]\n",
        "    for feature in ['bpm', 'danceability_%', 'energy_%', 'valence_%', 'acousticness_%']\n",
        "}\n",
        "\n",
        "# Include additional features\n",
        "additional_features = ['artist_count', 'released_month', 'released_day', 'key', 'mode', 'liveness_%', 'speechiness_%']\n",
        "all_feature_names = list(feature_ranges.keys()) + additional_features\n",
        "\n",
        "# Ensure that we use the exact feature names and order from when the scaler was fitted\n",
        "scaler_feature_names = scaler.feature_names_in_\n",
        "\n",
        "# Generate a manageable number of combinations (e.g., 1000 random combinations for performance)\n",
        "n_combinations = 1000  # Adjust this number based on performance trade-offs\n",
        "sampled_combinations = []\n",
        "\n",
        "# Sample random combinations from the feature ranges\n",
        "for _ in range(n_combinations):\n",
        "    combination = {feature: np.random.uniform(feature_ranges[feature][0], feature_ranges[feature][1]) for feature in feature_ranges}\n",
        "    sampled_combinations.append(combination)\n",
        "\n",
        "# Create a DataFrame from the sampled combinations\n",
        "combinations_df = pd.DataFrame(sampled_combinations)\n",
        "\n",
        "# Add missing features to the combinations (using the median for continuous features)\n",
        "combinations_full_df = fill_missing_features(combinations_df.copy(), scaler_feature_names, X_train)\n",
        "\n",
        "# Ensure the feature order exactly matches the scaler's expectations\n",
        "combinations_full_df = combinations_full_df[scaler_feature_names]\n",
        "\n",
        "# Scale the feature values (using the same scaler used during training)\n",
        "scaled_combinations = scaler.transform(combinations_full_df)\n",
        "\n",
        "# Predict the stream count for each combination of feature values using the trained model\n",
        "predicted_streams = best_rf_model.predict(scaled_combinations)\n",
        "\n",
        "# Find the combination that gives the highest predicted stream count\n",
        "max_streams_index = np.argmax(predicted_streams)\n",
        "best_combination = combinations_full_df.iloc[max_streams_index]\n",
        "\n",
        "# Output the optimal feature values and the predicted stream count for these values\n",
        "print(\"Best combination of features for highest predicted streams:\")\n",
        "print(best_combination)\n",
        "print(\"Predicted streams for this combination:\", predicted_streams[max_streams_index])"
      ],
      "metadata": {
        "id": "HPahLGYRdfIE",
        "colab": {
          "base_uri": "https://localhost:8080/"
        },
        "outputId": "641c8be7-a875-4cbd-e95a-a5c23b08b8a1"
      },
      "execution_count": null,
      "outputs": [
        {
          "output_type": "stream",
          "name": "stdout",
          "text": [
            "Best combination of features for highest predicted streams:\n",
            "artist_count            1.000000\n",
            "released_month          6.000000\n",
            "released_day           13.000000\n",
            "bpm                   177.299162\n",
            "key                     3.000000\n",
            "mode                    0.000000\n",
            "danceability_%         88.550565\n",
            "valence_%              20.181556\n",
            "energy_%               74.059140\n",
            "acousticness_%         34.271173\n",
            "instrumentalness_%      0.000000\n",
            "liveness_%             12.000000\n",
            "speechiness_%           6.000000\n",
            "Name: 0, dtype: float64\n",
            "Predicted streams for this combination: 1099244151.1288548\n"
          ]
        },
        {
          "output_type": "stream",
          "name": "stderr",
          "text": [
            "/usr/local/lib/python3.10/dist-packages/sklearn/base.py:493: UserWarning: X does not have valid feature names, but RandomForestRegressor was fitted with feature names\n",
            "  warnings.warn(\n"
          ]
        }
      ]
    },
    {
      "cell_type": "code",
      "source": [],
      "metadata": {
        "id": "dqlZKipS1bGt"
      },
      "execution_count": null,
      "outputs": []
    },
    {
      "cell_type": "markdown",
      "source": [],
      "metadata": {
        "id": "bUBk7FVDYDkx"
      }
    },
    {
      "cell_type": "code",
      "source": [
        "import numpy as np\n",
        "import pandas as pd\n",
        "from sklearn.model_selection import train_test_split\n",
        "from sklearn.ensemble import RandomForestRegressor\n",
        "\n",
        "# Define the ranges for each feature\n",
        "feature_ranges = {\n",
        "    'artist_count': [1, 2, 3, 4, 5],\n",
        "    'released_month': list(range(1, 13)),\n",
        "    'released_day': list(range(1, 32)),\n",
        "    'bpm': np.linspace(60, 200, 10),\n",
        "    'key': range(12),\n",
        "    'mode': [0, 1],\n",
        "    'danceability_%': np.linspace(0, 1, 10),\n",
        "    'valence_%': np.linspace(0, 1, 10),\n",
        "    'energy_%': np.linspace(0, 1, 10),\n",
        "    'acousticness_%': np.linspace(0, 1, 10),\n",
        "    'instrumentalness_%': np.linspace(0, 1, 10),\n",
        "    'liveness_%': np.linspace(0, 1, 10),\n",
        "    'speechiness_%': np.linspace(0, 1, 10)\n",
        "}\n",
        "\n",
        "# Sample a smaller subset of feature combinations\n",
        "num_samples = 1000  # Number of random combinations to sample\n",
        "sample_combinations = {\n",
        "    feature: np.random.choice(values, num_samples)\n",
        "    for feature, values in feature_ranges.items()\n",
        "}\n",
        "\n",
        "# Convert the sampled combinations into a DataFrame\n",
        "sampled_combinations_df = pd.DataFrame(sample_combinations)\n",
        "\n",
        "# Predict streams for the sampled combinations\n",
        "predicted_streams = best_rf_model.predict(sampled_combinations_df)\n",
        "\n",
        "# Add predicted streams to the DataFrame\n",
        "sampled_combinations_df['predicted_streams'] = predicted_streams\n",
        "\n",
        "# Find the combination with the highest predicted streams\n",
        "best_combination = sampled_combinations_df.loc[sampled_combinations_df['predicted_streams'].idxmax()]\n",
        "\n",
        "print(\"Best combination of features (random sample):\")\n",
        "print(best_combination)\n",
        "\n",
        "# Optional: Save to CSV for further analysis\n",
        "sampled_combinations_df.to_csv(\"predicted_streams_sampled_combinations.csv\", index=False)\n"
      ],
      "metadata": {
        "colab": {
          "base_uri": "https://localhost:8080/"
        },
        "id": "wJ2L-hOElKBD",
        "outputId": "b522a8ff-91e9-40a2-b084-1c58eb37188b"
      },
      "execution_count": null,
      "outputs": [
        {
          "output_type": "stream",
          "name": "stdout",
          "text": [
            "Best combination of features (random sample):\n",
            "artist_count          4.000000e+00\n",
            "released_month        1.100000e+01\n",
            "released_day          3.100000e+01\n",
            "bpm                   1.844444e+02\n",
            "key                   6.000000e+00\n",
            "mode                  1.000000e+00\n",
            "danceability_%        7.777778e-01\n",
            "valence_%             2.222222e-01\n",
            "energy_%              6.666667e-01\n",
            "acousticness_%        2.222222e-01\n",
            "instrumentalness_%    0.000000e+00\n",
            "liveness_%            7.777778e-01\n",
            "speechiness_%         0.000000e+00\n",
            "predicted_streams     1.353978e+09\n",
            "Name: 231, dtype: float64\n"
          ]
        }
      ]
    },
    {
      "cell_type": "markdown",
      "source": [
        "Interpretation of the Features:\n",
        "artist_count: 3\n",
        "\n",
        "The combination with the highest predicted streams corresponds to tracks with 3 artists. This suggests that, based on the model, songs with three artists tend to have higher streaming numbers.\n",
        "\n",
        "released_month: 7 (July)\n",
        "\n",
        "The highest predicted streams occur for songs released in July. This could indicate that songs released in the middle of the year may tend to perform better in terms of streams, possibly due to seasonal trends or events like summer releases.\n",
        "\n",
        "released_day: 31\n",
        "\n",
        "The predicted highest streams occur for songs released on the 31st day of the month. This may reflect a preference for the end of the month in terms of song release strategies or an anomaly in the data.\n",
        "\n",
        "bpm: 168.89\n",
        "\n",
        "Songs with a bpm (beats per minute) of approximately 169 bpm are predicted to have the highest streams. This bpm suggests a relatively fast tempo, potentially indicating that high-energy songs (e.g., dance, electronic, or upbeat genres) may perform better.\n",
        "\n",
        "key: 11 (likely B major or related scale)\n",
        "\n",
        "The key value of 11 corresponds to a musical key, potentially B major or related to the B scale, based on how keys are encoded numerically. This suggests that songs in this particular key tend to perform better.\n",
        "\n",
        "mode: 1\n",
        "\n",
        "Mode = 1 likely corresponds to major scale (the mode could be major or minor). A major mode generally denotes happier, more positive music, which is often more popular for streaming.\n",
        "\n",
        "danceability_%: 11.11%\n",
        "\n",
        "Songs with a danceability value of 11.11% are predicted to have high streams. This suggests a preference for songs that are less danceable (relatively low in terms of rhythm or groove), which may imply that other musical qualities (e.g., emotional appeal or lyrical content) are more important.\n",
        "\n",
        "valence_%: 77.78%\n",
        "\n",
        "The valence (a measure of positivity or happiness) is predicted to be around 77.78%, indicating that the highest predicted streams occur for more positive, happy songs.\n",
        "\n",
        "energy_%: 66.67%\n",
        "\n",
        "The energy level of the song is predicted to be 66.67%, indicating songs that are somewhat energetic but not extremely high-energy. This could reflect a preference for songs that are lively but not overly intense.\n",
        "\n",
        "acousticness_%: 0.00%\n",
        "\n",
        "The predicted highest streams occur for songs with 0% acousticness, meaning that fully electronic or non-acoustic tracks (with no acoustic instruments) are favored in terms of streaming performance.\n",
        "\n",
        "instrumentalness_%: 88.89%\n",
        "\n",
        "Songs with a high instrumentalness value of 88.89% (likely instrumental or low vocal content) are predicted to perform well in terms of streams, indicating that non-vocal, instrumental tracks might attract more listeners in this case.\n",
        "\n",
        "liveness_%: 55.56%\n",
        "\n",
        "The liveness value of 55.56% suggests that the best-performing tracks have a moderate level of live performance characteristics, possibly including crowd noise, audience participation, or a sense of being recorded in front of a live audience.\n",
        "\n",
        "speechiness_%: 33.33%\n",
        "\n",
        "The speechiness value of 33.33% indicates that the best-performing tracks are likely to have moderate spoken word content (e.g., rap, podcasts, or songs with significant lyrics spoken or rapped).\n",
        "\n",
        "-------------------------------------------------------------------------\n",
        "\n",
        "The model predicts that if a track were to have these ideal feature values, it could achieve a massive number of streams—over 1 billion. This aligns with expectations for a song with high energy, a popular release month (December), collaboration, and highly danceable features.\n",
        "\n",
        "The low acousticness and instrumentalness values suggest that the track is likely an electronic, vocal-heavy track designed for mainstream appeal.\n",
        "\n",
        "The high bpm, valence, and danceability percentages indicate that the song is suited for dancing and might have a broad audience appeal, possibly in genres like pop, EDM, or other high-energy formats.\n",
        "\n",
        "If we plug these ideal values into our model, our model predicts that the song will result in 1.06 billion streams. A very optimistic prediction.\n",
        "\n",
        "Now of course this prediction is unreliable as we earlier identified that our model does a poor job of predicting"
      ],
      "metadata": {
        "id": "-nadvAw1Cipf"
      }
    },
    {
      "cell_type": "code",
      "source": [
        "# Convert 'key' and 'mode' to categorical variables\n",
        "# df_anova['key'] = df_anova['key'].astype('category')\n",
        "# df_anova['mode'] = df_anova['mode'].astype('category')\n",
        "\n",
        "# # Get the original 'key' values and their categorical labels\n",
        "key_mapping = {key: idx for idx, key in enumerate(df_anova['key'].cat.categories)}\n",
        "mode_mapping = {mode: idx for idx, mode in enumerate(df_anova['mode'].cat.categories)}\n",
        "\n",
        "# Print the key and mode mappings\n",
        "print(\"Key Mapping (Original -> Categorical Encoding):\")\n",
        "for key, encoded in key_mapping.items():\n",
        "    print(f\"{key} : {encoded}\")\n",
        "\n",
        "print(\"\\nMode Mapping (Original -> Categorical Encoding):\")\n",
        "for mode, encoded in mode_mapping.items():\n",
        "    print(f\"{mode} : {encoded}\")\n"
      ],
      "metadata": {
        "colab": {
          "base_uri": "https://localhost:8080/"
        },
        "id": "2AvKuS4ikhIF",
        "outputId": "8892c900-9d14-4847-a9f6-d55447429022"
      },
      "execution_count": null,
      "outputs": [
        {
          "output_type": "stream",
          "name": "stdout",
          "text": [
            "Key Mapping (Original -> Categorical Encoding):\n",
            "A : 0\n",
            "A# : 1\n",
            "B : 2\n",
            "C# : 3\n",
            "D : 4\n",
            "D# : 5\n",
            "E : 6\n",
            "F : 7\n",
            "F# : 8\n",
            "G : 9\n",
            "G# : 10\n",
            "\n",
            "Mode Mapping (Original -> Categorical Encoding):\n",
            "Major : 0\n",
            "Minor : 1\n"
          ]
        }
      ]
    },
    {
      "cell_type": "markdown",
      "source": [
        "Looking at the mappings, it appears that C# is referred to key of 3."
      ],
      "metadata": {
        "id": "e0JAxfc9lZag"
      }
    },
    {
      "cell_type": "code",
      "source": [
        "import numpy as np\n",
        "\n",
        "\n",
        "# Define the best combination values\n",
        "best_values = {\n",
        "    'artist_count': 3,\n",
        "    'released_month': 7,\n",
        "    'released_day': 31,\n",
        "    'bpm': 168.8889,\n",
        "    'key': 11,\n",
        "    'mode': 1,\n",
        "    'danceability_%': 0.111111,\n",
        "    'valence_%': 0.777778,\n",
        "    'energy_%': 0.666667,\n",
        "    'acousticness_%': 0.0,\n",
        "    'instrumentalness_%': 0.888889,\n",
        "    'liveness_%': 0.555556,\n",
        "    'speechiness_%': 0.333333\n",
        "}\n",
        "\n",
        "# Define a tolerance for numerical comparisons\n",
        "tolerance = 0.01\n",
        "\n",
        "# Filter rows in the original dataset\n",
        "filtered_df = df[\n",
        "    (df['key'] == best_values['key']) &\n",
        "    (np.abs(df['bpm'] - best_values['bpm']) <= tolerance)\n",
        "]\n",
        "\n",
        "# Display the matching rows\n",
        "print(filtered_df)\n"
      ],
      "metadata": {
        "colab": {
          "base_uri": "https://localhost:8080/"
        },
        "id": "TsJaHLD5_-n7",
        "outputId": "07155df7-fc16-47df-8b6f-3cd4816a4d7c"
      },
      "execution_count": null,
      "outputs": [
        {
          "output_type": "stream",
          "name": "stdout",
          "text": [
            "Empty DataFrame\n",
            "Columns: [artist_count, released_month, released_day, streams, bpm, key, mode, danceability_%, valence_%, energy_%, acousticness_%, instrumentalness_%, liveness_%, speechiness_%]\n",
            "Index: []\n"
          ]
        }
      ]
    },
    {
      "cell_type": "code",
      "source": [],
      "metadata": {
        "id": "eVyBWarma8Nx"
      },
      "execution_count": null,
      "outputs": []
    }
  ]
}